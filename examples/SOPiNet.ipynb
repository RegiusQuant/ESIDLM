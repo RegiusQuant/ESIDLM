{
 "cells": [
  {
   "cell_type": "code",
   "execution_count": 1,
   "id": "6b661264-eb65-404b-a14e-9d5a6b69677a",
   "metadata": {
    "tags": []
   },
   "outputs": [],
   "source": [
    "%load_ext autoreload\n",
    "%autoreload 2\n",
    "%matplotlib inline\n",
    "\n",
    "import sys\n",
    "sys.path.append(\"../\")"
   ]
  },
  {
   "cell_type": "code",
   "execution_count": 3,
   "id": "5500923d-82a9-4c55-962f-8e0ebb476541",
   "metadata": {
    "tags": []
   },
   "outputs": [
    {
     "name": "stderr",
     "output_type": "stream",
     "text": [
      "Global seed set to 42\n",
      "GPU available: True (cuda), used: True\n",
      "TPU available: False, using: 0 TPU cores\n",
      "IPU available: False, using: 0 IPUs\n",
      "HPU available: False, using: 0 HPUs\n",
      "Missing logger folder: ../outputs/sopinet/lightning_logs\n",
      "LOCAL_RANK: 0 - CUDA_VISIBLE_DEVICES: [0]\n",
      "\n",
      "  | Name      | Type    | Params\n",
      "--------------------------------------\n",
      "0 | net       | SOPiNet | 658 K \n",
      "1 | criterion | MSELoss | 0     \n",
      "--------------------------------------\n",
      "658 K     Trainable params\n",
      "0         Non-trainable params\n",
      "658 K     Total params\n",
      "2.632     Total estimated model params size (MB)\n"
     ]
    },
    {
     "data": {
      "application/vnd.jupyter.widget-view+json": {
       "model_id": "",
       "version_major": 2,
       "version_minor": 0
      },
      "text/plain": [
       "Sanity Checking: 0it [00:00, ?it/s]"
      ]
     },
     "metadata": {},
     "output_type": "display_data"
    },
    {
     "data": {
      "application/vnd.jupyter.widget-view+json": {
       "model_id": "a618c3dfea374f59bdfd89b45131c900",
       "version_major": 2,
       "version_minor": 0
      },
      "text/plain": [
       "Training: 0it [00:00, ?it/s]"
      ]
     },
     "metadata": {},
     "output_type": "display_data"
    },
    {
     "data": {
      "application/vnd.jupyter.widget-view+json": {
       "model_id": "",
       "version_major": 2,
       "version_minor": 0
      },
      "text/plain": [
       "Validation: 0it [00:00, ?it/s]"
      ]
     },
     "metadata": {},
     "output_type": "display_data"
    },
    {
     "name": "stderr",
     "output_type": "stream",
     "text": [
      "Metric valid_loss improved. New best score: 1477.796\n",
      "Epoch 0, global step 196: 'valid_loss' reached 1477.79626 (best 1477.79626), saving model to '../outputs/sopinet/lightning_logs/version_0/checkpoints/epoch=0-step=196.ckpt' as top 1\n"
     ]
    },
    {
     "data": {
      "application/vnd.jupyter.widget-view+json": {
       "model_id": "",
       "version_major": 2,
       "version_minor": 0
      },
      "text/plain": [
       "Validation: 0it [00:00, ?it/s]"
      ]
     },
     "metadata": {},
     "output_type": "display_data"
    },
    {
     "name": "stderr",
     "output_type": "stream",
     "text": [
      "Metric valid_loss improved by 512.246 >= min_delta = 0.0. New best score: 965.550\n",
      "Epoch 1, global step 392: 'valid_loss' reached 965.54987 (best 965.54987), saving model to '../outputs/sopinet/lightning_logs/version_0/checkpoints/epoch=1-step=392.ckpt' as top 1\n"
     ]
    },
    {
     "data": {
      "application/vnd.jupyter.widget-view+json": {
       "model_id": "",
       "version_major": 2,
       "version_minor": 0
      },
      "text/plain": [
       "Validation: 0it [00:00, ?it/s]"
      ]
     },
     "metadata": {},
     "output_type": "display_data"
    },
    {
     "name": "stderr",
     "output_type": "stream",
     "text": [
      "Metric valid_loss improved by 78.602 >= min_delta = 0.0. New best score: 886.948\n",
      "Epoch 2, global step 588: 'valid_loss' reached 886.94824 (best 886.94824), saving model to '../outputs/sopinet/lightning_logs/version_0/checkpoints/epoch=2-step=588.ckpt' as top 1\n"
     ]
    },
    {
     "data": {
      "application/vnd.jupyter.widget-view+json": {
       "model_id": "",
       "version_major": 2,
       "version_minor": 0
      },
      "text/plain": [
       "Validation: 0it [00:00, ?it/s]"
      ]
     },
     "metadata": {},
     "output_type": "display_data"
    },
    {
     "name": "stderr",
     "output_type": "stream",
     "text": [
      "Metric valid_loss improved by 70.050 >= min_delta = 0.0. New best score: 816.899\n",
      "Epoch 3, global step 784: 'valid_loss' reached 816.89868 (best 816.89868), saving model to '../outputs/sopinet/lightning_logs/version_0/checkpoints/epoch=3-step=784.ckpt' as top 1\n"
     ]
    },
    {
     "data": {
      "application/vnd.jupyter.widget-view+json": {
       "model_id": "",
       "version_major": 2,
       "version_minor": 0
      },
      "text/plain": [
       "Validation: 0it [00:00, ?it/s]"
      ]
     },
     "metadata": {},
     "output_type": "display_data"
    },
    {
     "name": "stderr",
     "output_type": "stream",
     "text": [
      "Epoch 4, global step 980: 'valid_loss' was not in top 1\n"
     ]
    },
    {
     "data": {
      "application/vnd.jupyter.widget-view+json": {
       "model_id": "",
       "version_major": 2,
       "version_minor": 0
      },
      "text/plain": [
       "Validation: 0it [00:00, ?it/s]"
      ]
     },
     "metadata": {},
     "output_type": "display_data"
    },
    {
     "name": "stderr",
     "output_type": "stream",
     "text": [
      "Epoch 5, global step 1176: 'valid_loss' was not in top 1\n"
     ]
    },
    {
     "data": {
      "application/vnd.jupyter.widget-view+json": {
       "model_id": "",
       "version_major": 2,
       "version_minor": 0
      },
      "text/plain": [
       "Validation: 0it [00:00, ?it/s]"
      ]
     },
     "metadata": {},
     "output_type": "display_data"
    },
    {
     "name": "stderr",
     "output_type": "stream",
     "text": [
      "Epoch 6, global step 1372: 'valid_loss' was not in top 1\n"
     ]
    },
    {
     "data": {
      "application/vnd.jupyter.widget-view+json": {
       "model_id": "",
       "version_major": 2,
       "version_minor": 0
      },
      "text/plain": [
       "Validation: 0it [00:00, ?it/s]"
      ]
     },
     "metadata": {},
     "output_type": "display_data"
    },
    {
     "name": "stderr",
     "output_type": "stream",
     "text": [
      "Epoch 7, global step 1568: 'valid_loss' was not in top 1\n"
     ]
    },
    {
     "data": {
      "application/vnd.jupyter.widget-view+json": {
       "model_id": "",
       "version_major": 2,
       "version_minor": 0
      },
      "text/plain": [
       "Validation: 0it [00:00, ?it/s]"
      ]
     },
     "metadata": {},
     "output_type": "display_data"
    },
    {
     "name": "stderr",
     "output_type": "stream",
     "text": [
      "Epoch 8, global step 1764: 'valid_loss' was not in top 1\n"
     ]
    },
    {
     "data": {
      "application/vnd.jupyter.widget-view+json": {
       "model_id": "",
       "version_major": 2,
       "version_minor": 0
      },
      "text/plain": [
       "Validation: 0it [00:00, ?it/s]"
      ]
     },
     "metadata": {},
     "output_type": "display_data"
    },
    {
     "name": "stderr",
     "output_type": "stream",
     "text": [
      "Epoch 9, global step 1960: 'valid_loss' was not in top 1\n"
     ]
    },
    {
     "data": {
      "application/vnd.jupyter.widget-view+json": {
       "model_id": "",
       "version_major": 2,
       "version_minor": 0
      },
      "text/plain": [
       "Validation: 0it [00:00, ?it/s]"
      ]
     },
     "metadata": {},
     "output_type": "display_data"
    },
    {
     "name": "stderr",
     "output_type": "stream",
     "text": [
      "Epoch 10, global step 2156: 'valid_loss' was not in top 1\n"
     ]
    },
    {
     "data": {
      "application/vnd.jupyter.widget-view+json": {
       "model_id": "",
       "version_major": 2,
       "version_minor": 0
      },
      "text/plain": [
       "Validation: 0it [00:00, ?it/s]"
      ]
     },
     "metadata": {},
     "output_type": "display_data"
    },
    {
     "name": "stderr",
     "output_type": "stream",
     "text": [
      "Epoch 11, global step 2352: 'valid_loss' was not in top 1\n"
     ]
    },
    {
     "data": {
      "application/vnd.jupyter.widget-view+json": {
       "model_id": "",
       "version_major": 2,
       "version_minor": 0
      },
      "text/plain": [
       "Validation: 0it [00:00, ?it/s]"
      ]
     },
     "metadata": {},
     "output_type": "display_data"
    },
    {
     "name": "stderr",
     "output_type": "stream",
     "text": [
      "Epoch 12, global step 2548: 'valid_loss' was not in top 1\n"
     ]
    },
    {
     "data": {
      "application/vnd.jupyter.widget-view+json": {
       "model_id": "",
       "version_major": 2,
       "version_minor": 0
      },
      "text/plain": [
       "Validation: 0it [00:00, ?it/s]"
      ]
     },
     "metadata": {},
     "output_type": "display_data"
    },
    {
     "name": "stderr",
     "output_type": "stream",
     "text": [
      "Monitored metric valid_loss did not improve in the last 10 records. Best score: 816.899. Signaling Trainer to stop.\n",
      "Epoch 13, global step 2744: 'valid_loss' was not in top 1\n",
      "Restoring states from the checkpoint path at ../outputs/sopinet/lightning_logs/version_0/checkpoints/epoch=3-step=784.ckpt\n",
      "LOCAL_RANK: 0 - CUDA_VISIBLE_DEVICES: [0]\n",
      "Loaded model weights from the checkpoint at ../outputs/sopinet/lightning_logs/version_0/checkpoints/epoch=3-step=784.ckpt\n"
     ]
    },
    {
     "data": {
      "application/vnd.jupyter.widget-view+json": {
       "model_id": "b4b72177a3b14c538d997931561c96e9",
       "version_major": 2,
       "version_minor": 0
      },
      "text/plain": [
       "Predicting: 0it [00:00, ?it/s]"
      ]
     },
     "metadata": {},
     "output_type": "display_data"
    },
    {
     "name": "stdout",
     "output_type": "stream",
     "text": [
      "Y_1\n",
      "{'COUNT': 48239, 'RMSE': 29.738942317981163, 'MAE': 19.875607213979354, 'R2': 0.46443260162341427, 'PEARSON': 0.7569688087670022}\n",
      "Y_2\n",
      "{'COUNT': 46937, 'RMSE': 15.257219425805287, 'MAE': 11.939351890476068, 'R2': 0.31414821846173346, 'PEARSON': 0.7132006326345457}\n"
     ]
    }
   ],
   "source": [
    "from esidlm.learner.sopinet import SOPiNetLearner\n",
    "\n",
    "SOPINET_TRAINING_CONFIG = {\n",
    "    \"global\": {\n",
    "        \"seed\": 42,\n",
    "        \"output_folder\": \"../outputs/sopinet\",\n",
    "    },\n",
    "\n",
    "    \"data\": {\n",
    "        \"train_data\": \"../data/sopinet/train.csv\",\n",
    "        \"valid_data\": \"../data/sopinet/valid.csv\",\n",
    "        \"test_data\": \"../data/sopinet/test.csv\",\n",
    "\n",
    "        \"cont_cols\": ['X_1', 'X_2', 'X_3', 'X_4', 'X_5', 'X_6', 'X_7', 'X_8', 'X_9', 'X_10', \n",
    "                      'X_11', 'X_12', 'X_13', 'X_14', 'X_15', 'X_16', 'X_17', 'X_18', 'X_19', 'X_20', \n",
    "                      'X_21', 'X_22', 'X_23', 'X_24', 'X_25', 'X_26', 'X_27', 'X_28', 'X_29', 'X_30', \n",
    "                      'X_31', 'X_32', 'X_33', 'X_34', 'X_35', 'X_36', 'X_37', 'X_38', 'X_39', 'X_40', \n",
    "                      'X_41', 'X_42', 'X_43', 'X_44', 'X_45', 'X_46', 'X_47', 'X_48', 'X_49', 'X_50', \n",
    "                      'X_51', 'X_52', 'X_53', 'X_54', 'X_55', 'X_56'],\n",
    "        \"cate_cols\": ['C_1', 'C_2', 'C_3', 'C_4', 'C_5'],\n",
    "        \"time_cols\": [\n",
    "            ['X_57', 'X_77', 'X_97', 'X_117', 'X_137', 'X_157', 'X_177', 'X_197', 'X_217', 'X_237', 'X_257', 'X_277', 'X_297', 'X_317'], \n",
    "            ['X_58', 'X_78', 'X_98', 'X_118', 'X_138', 'X_158', 'X_178', 'X_198', 'X_218', 'X_238', 'X_258', 'X_278', 'X_298', 'X_318'], \n",
    "            ['X_59', 'X_79', 'X_99', 'X_119', 'X_139', 'X_159', 'X_179', 'X_199', 'X_219', 'X_239', 'X_259', 'X_279', 'X_299', 'X_319'], \n",
    "            ['X_60', 'X_80', 'X_100', 'X_120', 'X_140', 'X_160', 'X_180', 'X_200', 'X_220', 'X_240', 'X_260', 'X_280', 'X_300', 'X_320'], \n",
    "            ['X_61', 'X_81', 'X_101', 'X_121', 'X_141', 'X_161', 'X_181', 'X_201', 'X_221', 'X_241', 'X_261', 'X_281', 'X_301', 'X_321'], \n",
    "            ['X_62', 'X_82', 'X_102', 'X_122', 'X_142', 'X_162', 'X_182', 'X_202', 'X_222', 'X_242', 'X_262', 'X_282', 'X_302', 'X_322'], \n",
    "            ['X_63', 'X_83', 'X_103', 'X_123', 'X_143', 'X_163', 'X_183', 'X_203', 'X_223', 'X_243', 'X_263', 'X_283', 'X_303', 'X_323'], \n",
    "            ['X_64', 'X_84', 'X_104', 'X_124', 'X_144', 'X_164', 'X_184', 'X_204', 'X_224', 'X_244', 'X_264', 'X_284', 'X_304', 'X_324'], \n",
    "            ['X_65', 'X_85', 'X_105', 'X_125', 'X_145', 'X_165', 'X_185', 'X_205', 'X_225', 'X_245', 'X_265', 'X_285', 'X_305', 'X_325'], \n",
    "            ['X_66', 'X_86', 'X_106', 'X_126', 'X_146', 'X_166', 'X_186', 'X_206', 'X_226', 'X_246', 'X_266', 'X_286', 'X_306', 'X_326'], \n",
    "            ['X_67', 'X_87', 'X_107', 'X_127', 'X_147', 'X_167', 'X_187', 'X_207', 'X_227', 'X_247', 'X_267', 'X_287', 'X_307', 'X_327'], \n",
    "            ['X_68', 'X_88', 'X_108', 'X_128', 'X_148', 'X_168', 'X_188', 'X_208', 'X_228', 'X_248', 'X_268', 'X_288', 'X_308', 'X_328'], \n",
    "            ['X_69', 'X_89', 'X_109', 'X_129', 'X_149', 'X_169', 'X_189', 'X_209', 'X_229', 'X_249', 'X_269', 'X_289', 'X_309', 'X_329'], \n",
    "            ['X_70', 'X_90', 'X_110', 'X_130', 'X_150', 'X_170', 'X_190', 'X_210', 'X_230', 'X_250', 'X_270', 'X_290', 'X_310', 'X_330'], \n",
    "            ['X_71', 'X_91', 'X_111', 'X_131', 'X_151', 'X_171', 'X_191', 'X_211', 'X_231', 'X_251', 'X_271', 'X_291', 'X_311', 'X_331'], \n",
    "            ['X_72', 'X_92', 'X_112', 'X_132', 'X_152', 'X_172', 'X_192', 'X_212', 'X_232', 'X_252', 'X_272', 'X_292', 'X_312', 'X_332'], \n",
    "            ['X_73', 'X_93', 'X_113', 'X_133', 'X_153', 'X_173', 'X_193', 'X_213', 'X_233', 'X_253', 'X_273', 'X_293', 'X_313', 'X_333'], \n",
    "            ['X_74', 'X_94', 'X_114', 'X_134', 'X_154', 'X_174', 'X_194', 'X_214', 'X_234', 'X_254', 'X_274', 'X_294', 'X_314', 'X_334'], \n",
    "            ['X_75', 'X_95', 'X_115', 'X_135', 'X_155', 'X_175', 'X_195', 'X_215', 'X_235', 'X_255', 'X_275', 'X_295', 'X_315', 'X_335'], \n",
    "            ['X_76', 'X_96', 'X_116', 'X_136', 'X_156', 'X_176', 'X_196', 'X_216', 'X_236', 'X_256', 'X_276', 'X_296', 'X_316', 'X_336']\n",
    "        ],\n",
    "        \"target_cols\": [\"Y_1\", \"Y_2\"],\n",
    "        \"mask_cols\": [\"Y_1_masked\", \"Y_2_masked\"]\n",
    "    },\n",
    "\n",
    "    \"dataloader\": {\n",
    "        \"batch_size\": 256,\n",
    "        \"num_workers\": 4,\n",
    "    },\n",
    "\n",
    "    \"model\": {\n",
    "        \"net\": {\n",
    "            \"d_embed\": 32,\n",
    "            \"d_model\": 256,\n",
    "            \"n_layers\": 1,\n",
    "            \"n_head\": 4,\n",
    "            \"p_drop\": 0.3,\n",
    "            \"act_fn\": \"relu\"\n",
    "        },\n",
    "        \"optimizer\": {\n",
    "            \"lr\": 3e-4,\n",
    "            \"weight_decay\": 1e-5,\n",
    "        },\n",
    "    },\n",
    "\n",
    "    \"callback\": {\n",
    "        \"model_checkpoint\": {\n",
    "            \"save_top_k\": 1,\n",
    "            \"monitor\": \"valid_loss\",\n",
    "            \"mode\": \"min\",\n",
    "            \"verbose\": True\n",
    "        },\n",
    "        \"early_stopping\": {\n",
    "            \"monitor\": \"valid_loss\",\n",
    "            \"mode\": \"min\",\n",
    "            \"patience\": 10,\n",
    "            \"verbose\": True\n",
    "        }\n",
    "    },\n",
    "\n",
    "    \"trainer\": {\n",
    "        \"max_epochs\": 50,\n",
    "        \"accelerator\": \"gpu\",\n",
    "        \"devices\": 1,\n",
    "        \"deterministic\": True\n",
    "    }\n",
    "}\n",
    "\n",
    "learner = SOPiNetLearner(SOPINET_TRAINING_CONFIG)\n",
    "learner.run_model_training()"
   ]
  },
  {
   "cell_type": "code",
   "execution_count": 4,
   "id": "d905ff52-f4fb-416f-9b63-8a5593af6b9b",
   "metadata": {
    "tags": []
   },
   "outputs": [
    {
     "name": "stderr",
     "output_type": "stream",
     "text": [
      "Global seed set to 42\n",
      "GPU available: True (cuda), used: True\n",
      "TPU available: False, using: 0 TPU cores\n",
      "IPU available: False, using: 0 IPUs\n",
      "HPU available: False, using: 0 HPUs\n",
      "LOCAL_RANK: 0 - CUDA_VISIBLE_DEVICES: [0]\n"
     ]
    },
    {
     "data": {
      "application/vnd.jupyter.widget-view+json": {
       "model_id": "c05445d190c442c4b8a569e5d6957519",
       "version_major": 2,
       "version_minor": 0
      },
      "text/plain": [
       "Predicting: 0it [00:00, ?it/s]"
      ]
     },
     "metadata": {},
     "output_type": "display_data"
    },
    {
     "name": "stdout",
     "output_type": "stream",
     "text": [
      "Inference test_2 Finish.\n"
     ]
    },
    {
     "name": "stderr",
     "output_type": "stream",
     "text": [
      "LOCAL_RANK: 0 - CUDA_VISIBLE_DEVICES: [0]\n"
     ]
    },
    {
     "data": {
      "application/vnd.jupyter.widget-view+json": {
       "model_id": "4179037023364bb8a1653add29d7276e",
       "version_major": 2,
       "version_minor": 0
      },
      "text/plain": [
       "Predicting: 0it [00:00, ?it/s]"
      ]
     },
     "metadata": {},
     "output_type": "display_data"
    },
    {
     "name": "stdout",
     "output_type": "stream",
     "text": [
      "Inference test_1 Finish.\n"
     ]
    }
   ],
   "source": [
    "SOPINET_INFERENCE_CONFIG = {\n",
    "    \"global\": {\n",
    "        \"seed\": 42,\n",
    "        \"output_folder\": \"../outputs/sopinet\",\n",
    "    },\n",
    "\n",
    "    \"data\": {\n",
    "        \"inference_folder\": \"../data/sopinet/test\",\n",
    "\n",
    "        \"cont_cols\": ['X_1', 'X_2', 'X_3', 'X_4', 'X_5', 'X_6', 'X_7', 'X_8', 'X_9', 'X_10', \n",
    "                      'X_11', 'X_12', 'X_13', 'X_14', 'X_15', 'X_16', 'X_17', 'X_18', 'X_19', 'X_20', \n",
    "                      'X_21', 'X_22', 'X_23', 'X_24', 'X_25', 'X_26', 'X_27', 'X_28', 'X_29', 'X_30', \n",
    "                      'X_31', 'X_32', 'X_33', 'X_34', 'X_35', 'X_36', 'X_37', 'X_38', 'X_39', 'X_40', \n",
    "                      'X_41', 'X_42', 'X_43', 'X_44', 'X_45', 'X_46', 'X_47', 'X_48', 'X_49', 'X_50', \n",
    "                      'X_51', 'X_52', 'X_53', 'X_54', 'X_55', 'X_56'],\n",
    "        \"cate_cols\": ['C_1', 'C_2', 'C_3', 'C_4', 'C_5'],\n",
    "        \"time_cols\": [\n",
    "            ['X_57', 'X_77', 'X_97', 'X_117', 'X_137', 'X_157', 'X_177', 'X_197', 'X_217', 'X_237', 'X_257', 'X_277', 'X_297', 'X_317'], \n",
    "            ['X_58', 'X_78', 'X_98', 'X_118', 'X_138', 'X_158', 'X_178', 'X_198', 'X_218', 'X_238', 'X_258', 'X_278', 'X_298', 'X_318'], \n",
    "            ['X_59', 'X_79', 'X_99', 'X_119', 'X_139', 'X_159', 'X_179', 'X_199', 'X_219', 'X_239', 'X_259', 'X_279', 'X_299', 'X_319'], \n",
    "            ['X_60', 'X_80', 'X_100', 'X_120', 'X_140', 'X_160', 'X_180', 'X_200', 'X_220', 'X_240', 'X_260', 'X_280', 'X_300', 'X_320'], \n",
    "            ['X_61', 'X_81', 'X_101', 'X_121', 'X_141', 'X_161', 'X_181', 'X_201', 'X_221', 'X_241', 'X_261', 'X_281', 'X_301', 'X_321'], \n",
    "            ['X_62', 'X_82', 'X_102', 'X_122', 'X_142', 'X_162', 'X_182', 'X_202', 'X_222', 'X_242', 'X_262', 'X_282', 'X_302', 'X_322'], \n",
    "            ['X_63', 'X_83', 'X_103', 'X_123', 'X_143', 'X_163', 'X_183', 'X_203', 'X_223', 'X_243', 'X_263', 'X_283', 'X_303', 'X_323'], \n",
    "            ['X_64', 'X_84', 'X_104', 'X_124', 'X_144', 'X_164', 'X_184', 'X_204', 'X_224', 'X_244', 'X_264', 'X_284', 'X_304', 'X_324'], \n",
    "            ['X_65', 'X_85', 'X_105', 'X_125', 'X_145', 'X_165', 'X_185', 'X_205', 'X_225', 'X_245', 'X_265', 'X_285', 'X_305', 'X_325'], \n",
    "            ['X_66', 'X_86', 'X_106', 'X_126', 'X_146', 'X_166', 'X_186', 'X_206', 'X_226', 'X_246', 'X_266', 'X_286', 'X_306', 'X_326'], \n",
    "            ['X_67', 'X_87', 'X_107', 'X_127', 'X_147', 'X_167', 'X_187', 'X_207', 'X_227', 'X_247', 'X_267', 'X_287', 'X_307', 'X_327'], \n",
    "            ['X_68', 'X_88', 'X_108', 'X_128', 'X_148', 'X_168', 'X_188', 'X_208', 'X_228', 'X_248', 'X_268', 'X_288', 'X_308', 'X_328'], \n",
    "            ['X_69', 'X_89', 'X_109', 'X_129', 'X_149', 'X_169', 'X_189', 'X_209', 'X_229', 'X_249', 'X_269', 'X_289', 'X_309', 'X_329'], \n",
    "            ['X_70', 'X_90', 'X_110', 'X_130', 'X_150', 'X_170', 'X_190', 'X_210', 'X_230', 'X_250', 'X_270', 'X_290', 'X_310', 'X_330'], \n",
    "            ['X_71', 'X_91', 'X_111', 'X_131', 'X_151', 'X_171', 'X_191', 'X_211', 'X_231', 'X_251', 'X_271', 'X_291', 'X_311', 'X_331'], \n",
    "            ['X_72', 'X_92', 'X_112', 'X_132', 'X_152', 'X_172', 'X_192', 'X_212', 'X_232', 'X_252', 'X_272', 'X_292', 'X_312', 'X_332'], \n",
    "            ['X_73', 'X_93', 'X_113', 'X_133', 'X_153', 'X_173', 'X_193', 'X_213', 'X_233', 'X_253', 'X_273', 'X_293', 'X_313', 'X_333'], \n",
    "            ['X_74', 'X_94', 'X_114', 'X_134', 'X_154', 'X_174', 'X_194', 'X_214', 'X_234', 'X_254', 'X_274', 'X_294', 'X_314', 'X_334'], \n",
    "            ['X_75', 'X_95', 'X_115', 'X_135', 'X_155', 'X_175', 'X_195', 'X_215', 'X_235', 'X_255', 'X_275', 'X_295', 'X_315', 'X_335'], \n",
    "            ['X_76', 'X_96', 'X_116', 'X_136', 'X_156', 'X_176', 'X_196', 'X_216', 'X_236', 'X_256', 'X_276', 'X_296', 'X_316', 'X_336']\n",
    "        ],\n",
    "        \"target_cols\": [\"Y_1\", \"Y_2\"]\n",
    "    },\n",
    "\n",
    "    \"dataloader\": {\n",
    "        \"batch_size\": 256,\n",
    "        \"num_workers\": 4,\n",
    "    },\n",
    "\n",
    "    \"model\": {\n",
    "        \"model_checkpoint_path\": \"../outputs/sopinet/lightning_logs/version_0/checkpoints/epoch=3-step=784.ckpt\"\n",
    "    },\n",
    "\n",
    "    \"trainer\": {\n",
    "        \"accelerator\": \"gpu\",\n",
    "        \"devices\": 1,\n",
    "    },\n",
    "}\n",
    "\n",
    "learner = SOPiNetLearner(SOPINET_INFERENCE_CONFIG)\n",
    "learner.run_model_inference()"
   ]
  },
  {
   "cell_type": "code",
   "execution_count": null,
   "id": "c737a625-5864-41bb-a434-749a301d5f2b",
   "metadata": {},
   "outputs": [],
   "source": []
  }
 ],
 "metadata": {
  "kernelspec": {
   "display_name": "Python 3 (ipykernel)",
   "language": "python",
   "name": "python3"
  },
  "language_info": {
   "codemirror_mode": {
    "name": "ipython",
    "version": 3
   },
   "file_extension": ".py",
   "mimetype": "text/x-python",
   "name": "python",
   "nbconvert_exporter": "python",
   "pygments_lexer": "ipython3",
   "version": "3.9.16"
  }
 },
 "nbformat": 4,
 "nbformat_minor": 5
}
