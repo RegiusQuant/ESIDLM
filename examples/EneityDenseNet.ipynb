{
 "cells": [
  {
   "cell_type": "code",
   "execution_count": 1,
   "metadata": {
    "tags": []
   },
   "outputs": [],
   "source": [
    "%load_ext autoreload\n",
    "%autoreload 2\n",
    "%matplotlib inline\n",
    "\n",
    "import sys\n",
    "sys.path.append(\"../\")\n",
    "\n",
    "from esidlm.learner.densenet import EntityDenseNetLearner"
   ]
  },
  {
   "cell_type": "code",
   "execution_count": 2,
   "metadata": {
    "tags": []
   },
   "outputs": [
    {
     "name": "stderr",
     "output_type": "stream",
     "text": [
      "Global seed set to 42\n",
      "GPU available: True (cuda), used: True\n",
      "TPU available: False, using: 0 TPU cores\n",
      "IPU available: False, using: 0 IPUs\n",
      "HPU available: False, using: 0 HPUs\n",
      "LOCAL_RANK: 0 - CUDA_VISIBLE_DEVICES: [0]\n",
      "\n",
      "  | Name      | Type              | Params\n",
      "------------------------------------------------\n",
      "0 | net       | EntityDenseNet    | 100 K \n",
      "1 | criterion | RelativeErrorLoss | 0     \n",
      "2 | metric_r2 | R2Score           | 0     \n",
      "------------------------------------------------\n",
      "100 K     Trainable params\n",
      "0         Non-trainable params\n",
      "100 K     Total params\n",
      "0.400     Total estimated model params size (MB)\n"
     ]
    },
    {
     "data": {
      "application/vnd.jupyter.widget-view+json": {
       "model_id": "2ce1e03f2be54c60b3fadd811f0f657c",
       "version_major": 2,
       "version_minor": 0
      },
      "text/plain": [
       "Sanity Checking: 0it [00:00, ?it/s]"
      ]
     },
     "metadata": {},
     "output_type": "display_data"
    },
    {
     "data": {
      "application/vnd.jupyter.widget-view+json": {
       "model_id": "e553053c72ed46998c6cdcf7a6289977",
       "version_major": 2,
       "version_minor": 0
      },
      "text/plain": [
       "Training: 0it [00:00, ?it/s]"
      ]
     },
     "metadata": {},
     "output_type": "display_data"
    },
    {
     "data": {
      "application/vnd.jupyter.widget-view+json": {
       "model_id": "dbc60ef4dea043f687d29e9f11614348",
       "version_major": 2,
       "version_minor": 0
      },
      "text/plain": [
       "Validation: 0it [00:00, ?it/s]"
      ]
     },
     "metadata": {},
     "output_type": "display_data"
    },
    {
     "name": "stderr",
     "output_type": "stream",
     "text": [
      "Metric valid_loss improved. New best score: 2.050\n",
      "Epoch 0, global step 216: 'valid_loss' reached 2.04966 (best 2.04966), saving model to '../outputs/densenet/lightning_logs/version_2/checkpoints/epoch=0-step=216.ckpt' as top 1\n"
     ]
    },
    {
     "data": {
      "application/vnd.jupyter.widget-view+json": {
       "model_id": "c3c06a13434343d38378cf19753d456e",
       "version_major": 2,
       "version_minor": 0
      },
      "text/plain": [
       "Validation: 0it [00:00, ?it/s]"
      ]
     },
     "metadata": {},
     "output_type": "display_data"
    },
    {
     "name": "stderr",
     "output_type": "stream",
     "text": [
      "Metric valid_loss improved by 0.492 >= min_delta = 0.0. New best score: 1.557\n",
      "Epoch 1, global step 432: 'valid_loss' reached 1.55738 (best 1.55738), saving model to '../outputs/densenet/lightning_logs/version_2/checkpoints/epoch=1-step=432.ckpt' as top 1\n"
     ]
    },
    {
     "data": {
      "application/vnd.jupyter.widget-view+json": {
       "model_id": "df69551460d843f6a2d6601386d9c13d",
       "version_major": 2,
       "version_minor": 0
      },
      "text/plain": [
       "Validation: 0it [00:00, ?it/s]"
      ]
     },
     "metadata": {},
     "output_type": "display_data"
    },
    {
     "name": "stderr",
     "output_type": "stream",
     "text": [
      "Metric valid_loss improved by 0.195 >= min_delta = 0.0. New best score: 1.363\n",
      "Epoch 2, global step 648: 'valid_loss' reached 1.36270 (best 1.36270), saving model to '../outputs/densenet/lightning_logs/version_2/checkpoints/epoch=2-step=648.ckpt' as top 1\n"
     ]
    },
    {
     "data": {
      "application/vnd.jupyter.widget-view+json": {
       "model_id": "c10160a1a4b24466a343882cd4bf5100",
       "version_major": 2,
       "version_minor": 0
      },
      "text/plain": [
       "Validation: 0it [00:00, ?it/s]"
      ]
     },
     "metadata": {},
     "output_type": "display_data"
    },
    {
     "name": "stderr",
     "output_type": "stream",
     "text": [
      "Metric valid_loss improved by 0.088 >= min_delta = 0.0. New best score: 1.275\n",
      "Epoch 3, global step 864: 'valid_loss' reached 1.27509 (best 1.27509), saving model to '../outputs/densenet/lightning_logs/version_2/checkpoints/epoch=3-step=864.ckpt' as top 1\n"
     ]
    },
    {
     "data": {
      "application/vnd.jupyter.widget-view+json": {
       "model_id": "8072010bcc984ff2a491ef2583a55b87",
       "version_major": 2,
       "version_minor": 0
      },
      "text/plain": [
       "Validation: 0it [00:00, ?it/s]"
      ]
     },
     "metadata": {},
     "output_type": "display_data"
    },
    {
     "name": "stderr",
     "output_type": "stream",
     "text": [
      "Metric valid_loss improved by 0.068 >= min_delta = 0.0. New best score: 1.207\n",
      "Epoch 4, global step 1080: 'valid_loss' reached 1.20726 (best 1.20726), saving model to '../outputs/densenet/lightning_logs/version_2/checkpoints/epoch=4-step=1080.ckpt' as top 1\n"
     ]
    },
    {
     "data": {
      "application/vnd.jupyter.widget-view+json": {
       "model_id": "31ce6e62ec8a4e15b8167be43810b34c",
       "version_major": 2,
       "version_minor": 0
      },
      "text/plain": [
       "Validation: 0it [00:00, ?it/s]"
      ]
     },
     "metadata": {},
     "output_type": "display_data"
    },
    {
     "name": "stderr",
     "output_type": "stream",
     "text": [
      "Metric valid_loss improved by 0.060 >= min_delta = 0.0. New best score: 1.148\n",
      "Epoch 5, global step 1296: 'valid_loss' reached 1.14774 (best 1.14774), saving model to '../outputs/densenet/lightning_logs/version_2/checkpoints/epoch=5-step=1296.ckpt' as top 1\n"
     ]
    },
    {
     "data": {
      "application/vnd.jupyter.widget-view+json": {
       "model_id": "36baf0dd960b4fd6877758c579c1ed07",
       "version_major": 2,
       "version_minor": 0
      },
      "text/plain": [
       "Validation: 0it [00:00, ?it/s]"
      ]
     },
     "metadata": {},
     "output_type": "display_data"
    },
    {
     "name": "stderr",
     "output_type": "stream",
     "text": [
      "Metric valid_loss improved by 0.021 >= min_delta = 0.0. New best score: 1.127\n",
      "Epoch 6, global step 1512: 'valid_loss' reached 1.12689 (best 1.12689), saving model to '../outputs/densenet/lightning_logs/version_2/checkpoints/epoch=6-step=1512.ckpt' as top 1\n"
     ]
    },
    {
     "data": {
      "application/vnd.jupyter.widget-view+json": {
       "model_id": "4d19958cfafe4473a02aedad55304a72",
       "version_major": 2,
       "version_minor": 0
      },
      "text/plain": [
       "Validation: 0it [00:00, ?it/s]"
      ]
     },
     "metadata": {},
     "output_type": "display_data"
    },
    {
     "name": "stderr",
     "output_type": "stream",
     "text": [
      "Metric valid_loss improved by 0.014 >= min_delta = 0.0. New best score: 1.112\n",
      "Epoch 7, global step 1728: 'valid_loss' reached 1.11247 (best 1.11247), saving model to '../outputs/densenet/lightning_logs/version_2/checkpoints/epoch=7-step=1728.ckpt' as top 1\n"
     ]
    },
    {
     "data": {
      "application/vnd.jupyter.widget-view+json": {
       "model_id": "483cd5bb61854150bfe4211d707d9749",
       "version_major": 2,
       "version_minor": 0
      },
      "text/plain": [
       "Validation: 0it [00:00, ?it/s]"
      ]
     },
     "metadata": {},
     "output_type": "display_data"
    },
    {
     "name": "stderr",
     "output_type": "stream",
     "text": [
      "Metric valid_loss improved by 0.062 >= min_delta = 0.0. New best score: 1.051\n",
      "Epoch 8, global step 1944: 'valid_loss' reached 1.05084 (best 1.05084), saving model to '../outputs/densenet/lightning_logs/version_2/checkpoints/epoch=8-step=1944.ckpt' as top 1\n"
     ]
    },
    {
     "data": {
      "application/vnd.jupyter.widget-view+json": {
       "model_id": "cc28bfc276ef44b287a63abced7b1359",
       "version_major": 2,
       "version_minor": 0
      },
      "text/plain": [
       "Validation: 0it [00:00, ?it/s]"
      ]
     },
     "metadata": {},
     "output_type": "display_data"
    },
    {
     "name": "stderr",
     "output_type": "stream",
     "text": [
      "Metric valid_loss improved by 0.037 >= min_delta = 0.0. New best score: 1.014\n",
      "Epoch 9, global step 2160: 'valid_loss' reached 1.01372 (best 1.01372), saving model to '../outputs/densenet/lightning_logs/version_2/checkpoints/epoch=9-step=2160.ckpt' as top 1\n"
     ]
    },
    {
     "data": {
      "application/vnd.jupyter.widget-view+json": {
       "model_id": "43bae1a1b34d4295b634873627f873d6",
       "version_major": 2,
       "version_minor": 0
      },
      "text/plain": [
       "Validation: 0it [00:00, ?it/s]"
      ]
     },
     "metadata": {},
     "output_type": "display_data"
    },
    {
     "name": "stderr",
     "output_type": "stream",
     "text": [
      "Metric valid_loss improved by 0.001 >= min_delta = 0.0. New best score: 1.013\n",
      "Epoch 10, global step 2376: 'valid_loss' reached 1.01255 (best 1.01255), saving model to '../outputs/densenet/lightning_logs/version_2/checkpoints/epoch=10-step=2376.ckpt' as top 1\n"
     ]
    },
    {
     "data": {
      "application/vnd.jupyter.widget-view+json": {
       "model_id": "457a94298017494bbcf7b96c33338b7e",
       "version_major": 2,
       "version_minor": 0
      },
      "text/plain": [
       "Validation: 0it [00:00, ?it/s]"
      ]
     },
     "metadata": {},
     "output_type": "display_data"
    },
    {
     "name": "stderr",
     "output_type": "stream",
     "text": [
      "Metric valid_loss improved by 0.040 >= min_delta = 0.0. New best score: 0.973\n",
      "Epoch 11, global step 2592: 'valid_loss' reached 0.97279 (best 0.97279), saving model to '../outputs/densenet/lightning_logs/version_2/checkpoints/epoch=11-step=2592.ckpt' as top 1\n"
     ]
    },
    {
     "data": {
      "application/vnd.jupyter.widget-view+json": {
       "model_id": "eaf63a5be184475c9ad5a2ce9a25f396",
       "version_major": 2,
       "version_minor": 0
      },
      "text/plain": [
       "Validation: 0it [00:00, ?it/s]"
      ]
     },
     "metadata": {},
     "output_type": "display_data"
    },
    {
     "name": "stderr",
     "output_type": "stream",
     "text": [
      "Metric valid_loss improved by 0.016 >= min_delta = 0.0. New best score: 0.957\n",
      "Epoch 12, global step 2808: 'valid_loss' reached 0.95654 (best 0.95654), saving model to '../outputs/densenet/lightning_logs/version_2/checkpoints/epoch=12-step=2808.ckpt' as top 1\n"
     ]
    },
    {
     "data": {
      "application/vnd.jupyter.widget-view+json": {
       "model_id": "ee6222deaf3e4c1a8b2c387366651c24",
       "version_major": 2,
       "version_minor": 0
      },
      "text/plain": [
       "Validation: 0it [00:00, ?it/s]"
      ]
     },
     "metadata": {},
     "output_type": "display_data"
    },
    {
     "name": "stderr",
     "output_type": "stream",
     "text": [
      "Epoch 13, global step 3024: 'valid_loss' was not in top 1\n"
     ]
    },
    {
     "data": {
      "application/vnd.jupyter.widget-view+json": {
       "model_id": "afef3d76089246f1a869ad120dec2e1c",
       "version_major": 2,
       "version_minor": 0
      },
      "text/plain": [
       "Validation: 0it [00:00, ?it/s]"
      ]
     },
     "metadata": {},
     "output_type": "display_data"
    },
    {
     "name": "stderr",
     "output_type": "stream",
     "text": [
      "Metric valid_loss improved by 0.010 >= min_delta = 0.0. New best score: 0.947\n",
      "Epoch 14, global step 3240: 'valid_loss' reached 0.94658 (best 0.94658), saving model to '../outputs/densenet/lightning_logs/version_2/checkpoints/epoch=14-step=3240.ckpt' as top 1\n"
     ]
    },
    {
     "data": {
      "application/vnd.jupyter.widget-view+json": {
       "model_id": "2c074f74dce846258c302af6e506fcb3",
       "version_major": 2,
       "version_minor": 0
      },
      "text/plain": [
       "Validation: 0it [00:00, ?it/s]"
      ]
     },
     "metadata": {},
     "output_type": "display_data"
    },
    {
     "name": "stderr",
     "output_type": "stream",
     "text": [
      "Metric valid_loss improved by 0.031 >= min_delta = 0.0. New best score: 0.916\n",
      "Epoch 15, global step 3456: 'valid_loss' reached 0.91601 (best 0.91601), saving model to '../outputs/densenet/lightning_logs/version_2/checkpoints/epoch=15-step=3456.ckpt' as top 1\n"
     ]
    },
    {
     "data": {
      "application/vnd.jupyter.widget-view+json": {
       "model_id": "d0fd51e3e74649bab820f581b3f83ad1",
       "version_major": 2,
       "version_minor": 0
      },
      "text/plain": [
       "Validation: 0it [00:00, ?it/s]"
      ]
     },
     "metadata": {},
     "output_type": "display_data"
    },
    {
     "name": "stderr",
     "output_type": "stream",
     "text": [
      "Metric valid_loss improved by 0.031 >= min_delta = 0.0. New best score: 0.885\n",
      "Epoch 16, global step 3672: 'valid_loss' reached 0.88535 (best 0.88535), saving model to '../outputs/densenet/lightning_logs/version_2/checkpoints/epoch=16-step=3672.ckpt' as top 1\n"
     ]
    },
    {
     "data": {
      "application/vnd.jupyter.widget-view+json": {
       "model_id": "6f566ac1872b4e669767eb9a1d055c55",
       "version_major": 2,
       "version_minor": 0
      },
      "text/plain": [
       "Validation: 0it [00:00, ?it/s]"
      ]
     },
     "metadata": {},
     "output_type": "display_data"
    },
    {
     "name": "stderr",
     "output_type": "stream",
     "text": [
      "Metric valid_loss improved by 0.020 >= min_delta = 0.0. New best score: 0.865\n",
      "Epoch 17, global step 3888: 'valid_loss' reached 0.86498 (best 0.86498), saving model to '../outputs/densenet/lightning_logs/version_2/checkpoints/epoch=17-step=3888.ckpt' as top 1\n"
     ]
    },
    {
     "data": {
      "application/vnd.jupyter.widget-view+json": {
       "model_id": "4993dc9d29ce4501b9453e2c488d2c78",
       "version_major": 2,
       "version_minor": 0
      },
      "text/plain": [
       "Validation: 0it [00:00, ?it/s]"
      ]
     },
     "metadata": {},
     "output_type": "display_data"
    },
    {
     "name": "stderr",
     "output_type": "stream",
     "text": [
      "Metric valid_loss improved by 0.018 >= min_delta = 0.0. New best score: 0.847\n",
      "Epoch 18, global step 4104: 'valid_loss' reached 0.84679 (best 0.84679), saving model to '../outputs/densenet/lightning_logs/version_2/checkpoints/epoch=18-step=4104.ckpt' as top 1\n"
     ]
    },
    {
     "data": {
      "application/vnd.jupyter.widget-view+json": {
       "model_id": "d16acd934e234ee2acc7cfb676fcbc01",
       "version_major": 2,
       "version_minor": 0
      },
      "text/plain": [
       "Validation: 0it [00:00, ?it/s]"
      ]
     },
     "metadata": {},
     "output_type": "display_data"
    },
    {
     "name": "stderr",
     "output_type": "stream",
     "text": [
      "Metric valid_loss improved by 0.015 >= min_delta = 0.0. New best score: 0.832\n",
      "Epoch 19, global step 4320: 'valid_loss' reached 0.83153 (best 0.83153), saving model to '../outputs/densenet/lightning_logs/version_2/checkpoints/epoch=19-step=4320.ckpt' as top 1\n",
      "`Trainer.fit` stopped: `max_epochs=20` reached.\n",
      "Restoring states from the checkpoint path at ../outputs/densenet/lightning_logs/version_2/checkpoints/epoch=19-step=4320.ckpt\n",
      "LOCAL_RANK: 0 - CUDA_VISIBLE_DEVICES: [0]\n",
      "Loaded model weights from the checkpoint at ../outputs/densenet/lightning_logs/version_2/checkpoints/epoch=19-step=4320.ckpt\n"
     ]
    },
    {
     "data": {
      "application/vnd.jupyter.widget-view+json": {
       "model_id": "c536e6a8646f4b6eb88e09de6ecc98f9",
       "version_major": 2,
       "version_minor": 0
      },
      "text/plain": [
       "Predicting: 0it [00:00, ?it/s]"
      ]
     },
     "metadata": {},
     "output_type": "display_data"
    },
    {
     "name": "stdout",
     "output_type": "stream",
     "text": [
      "{'COUNT': 31457, 'RMSE': 0.13164652838230373, 'MAE': 0.06057638571687137, 'R2': 0.7100705775713241, 'PEARSON': 0.8817369431035844}\n"
     ]
    }
   ],
   "source": [
    "DENSENET_TRAINING_CONFIG = {\n",
    "    \"global\": {\n",
    "        \"seed\": 42,\n",
    "        \"output_folder\": \"../outputs/densenet\",\n",
    "    },\n",
    "\n",
    "    \"data\": {\n",
    "        \"train_data\": \"../data/densenet/train.csv\",\n",
    "        \"valid_data\": \"../data/densenet/valid.csv\",\n",
    "        \"test_data\": \"../data/densenet/test.csv\",\n",
    "\n",
    "        \"cont_cols\": ['X_1', 'X_2', 'X_3', 'X_4', 'X_5', 'X_6', 'X_7', 'X_8', 'X_9', 'X_10', \n",
    "                      'X_11', 'X_12', 'X_13', 'X_14', 'X_15', 'X_16', 'X_17', 'X_18', 'X_19', \n",
    "                      'X_20', 'X_21', 'X_22', 'X_23', 'X_24', 'X_25', 'X_26', 'X_27', 'X_28', \n",
    "                      'X_29', 'X_30', 'X_31', 'X_32'],\n",
    "        \"cate_cols\": ['C_1', 'C_2', 'C_3', 'C_4', 'C_5', 'C_6', 'C_7', 'C_8', 'C_9', 'C_10', \n",
    "                      'C_11', 'C_12', 'C_13', 'C_14'],\n",
    "        \"target_col\": \"Y\",\n",
    "    },\n",
    "\n",
    "    \"dataloader\": {\n",
    "        \"batch_size\": 1024,\n",
    "        \"num_workers\": 4,\n",
    "    },\n",
    "\n",
    "    \"model\": {\n",
    "        \"net\": {\n",
    "            \"d_embed\": 32,\n",
    "            \"d_model\": 128,\n",
    "            \"n_layers\": 2,\n",
    "            \"p_drop\": 0.3,\n",
    "            \"act_fn\": \"relu\"\n",
    "        },\n",
    "        \"loss\": {\n",
    "            \"name\": \"rel\",\n",
    "            \"a\": 0.15,\n",
    "            \"b\": 0.05,\n",
    "        },\n",
    "        \"optimizer\": {\n",
    "            \"lr\": 3e-4,\n",
    "            \"weight_decay\": 1e-5,\n",
    "        },\n",
    "    },\n",
    "\n",
    "    \"callback\": {\n",
    "        \"model_checkpoint\": {\n",
    "            \"save_top_k\": 1,\n",
    "            \"monitor\": \"valid_loss\",\n",
    "            \"mode\": \"min\",\n",
    "            \"verbose\": True\n",
    "        },\n",
    "        \"early_stopping\": {\n",
    "            \"monitor\": \"valid_loss\",\n",
    "            \"mode\": \"min\",\n",
    "            \"patience\": 5,\n",
    "            \"verbose\": True\n",
    "        }\n",
    "    },\n",
    "\n",
    "    \"trainer\": {\n",
    "        \"max_epochs\": 20,\n",
    "        \"accelerator\": \"gpu\",\n",
    "        \"devices\": 1,\n",
    "        \"deterministic\": True\n",
    "    }\n",
    "}\n",
    "\n",
    "learner = EntityDenseNetLearner(DENSENET_TRAINING_CONFIG)\n",
    "learner.run_model_training()"
   ]
  },
  {
   "cell_type": "code",
   "execution_count": 5,
   "metadata": {
    "tags": []
   },
   "outputs": [
    {
     "name": "stderr",
     "output_type": "stream",
     "text": [
      "Global seed set to 42\n",
      "GPU available: True (cuda), used: True\n",
      "TPU available: False, using: 0 TPU cores\n",
      "IPU available: False, using: 0 IPUs\n",
      "HPU available: False, using: 0 HPUs\n",
      "LOCAL_RANK: 0 - CUDA_VISIBLE_DEVICES: [0]\n"
     ]
    },
    {
     "data": {
      "application/vnd.jupyter.widget-view+json": {
       "model_id": "1e8b323e66394f8b8a8e86106407c4d6",
       "version_major": 2,
       "version_minor": 0
      },
      "text/plain": [
       "Predicting: 0it [00:00, ?it/s]"
      ]
     },
     "metadata": {},
     "output_type": "display_data"
    },
    {
     "name": "stderr",
     "output_type": "stream",
     "text": [
      "LOCAL_RANK: 0 - CUDA_VISIBLE_DEVICES: [0]\n"
     ]
    },
    {
     "name": "stdout",
     "output_type": "stream",
     "text": [
      "Inference test_3 Finish.\n"
     ]
    },
    {
     "data": {
      "application/vnd.jupyter.widget-view+json": {
       "model_id": "2f259856874448acbf1ecff71237bfce",
       "version_major": 2,
       "version_minor": 0
      },
      "text/plain": [
       "Predicting: 0it [00:00, ?it/s]"
      ]
     },
     "metadata": {},
     "output_type": "display_data"
    },
    {
     "name": "stderr",
     "output_type": "stream",
     "text": [
      "LOCAL_RANK: 0 - CUDA_VISIBLE_DEVICES: [0]\n"
     ]
    },
    {
     "name": "stdout",
     "output_type": "stream",
     "text": [
      "Inference test_2 Finish.\n"
     ]
    },
    {
     "data": {
      "application/vnd.jupyter.widget-view+json": {
       "model_id": "b4dc6db952254855bdce439e9eb0bfcb",
       "version_major": 2,
       "version_minor": 0
      },
      "text/plain": [
       "Predicting: 0it [00:00, ?it/s]"
      ]
     },
     "metadata": {},
     "output_type": "display_data"
    },
    {
     "name": "stdout",
     "output_type": "stream",
     "text": [
      "Inference test_1 Finish.\n"
     ]
    }
   ],
   "source": [
    "DENSENET_INFERENCE_CONFIG = {\n",
    "    \"global\": {\n",
    "        \"seed\": 42,\n",
    "        \"output_folder\": \"../outputs/densenet\",\n",
    "    },\n",
    "\n",
    "    \"data\": {\n",
    "        \"inference_folder\": \"../data/densenet/test\",\n",
    "\n",
    "        \"cont_cols\": ['X_1', 'X_2', 'X_3', 'X_4', 'X_5', 'X_6', 'X_7', 'X_8', 'X_9', 'X_10', \n",
    "                      'X_11', 'X_12', 'X_13', 'X_14', 'X_15', 'X_16', 'X_17', 'X_18', 'X_19', \n",
    "                      'X_20', 'X_21', 'X_22', 'X_23', 'X_24', 'X_25', 'X_26', 'X_27', 'X_28', \n",
    "                      'X_29', 'X_30', 'X_31', 'X_32'],\n",
    "        \"cate_cols\": ['C_1', 'C_2', 'C_3', 'C_4', 'C_5', 'C_6', 'C_7', 'C_8', 'C_9', 'C_10', \n",
    "                      'C_11', 'C_12', 'C_13', 'C_14'],\n",
    "        \"target_col\": \"Y\"\n",
    "    },\n",
    "\n",
    "    \"dataloader\": {\n",
    "        \"batch_size\": 1024,\n",
    "        \"num_workers\": 4,\n",
    "    },\n",
    "\n",
    "    \"model\": {\n",
    "        \"model_checkpoint_path\": \"../outputs/densenet/lightning_logs/version_0/checkpoints/epoch=19-step=4320.ckpt\"\n",
    "    },\n",
    "\n",
    "    \"trainer\": {\n",
    "        \"accelerator\": \"gpu\",\n",
    "        \"devices\": 1,\n",
    "    },\n",
    "}\n",
    "\n",
    "learner = EntityDenseNetLearner(DENSENET_INFERENCE_CONFIG)\n",
    "learner.run_model_inference()"
   ]
  },
  {
   "cell_type": "code",
   "execution_count": 8,
   "metadata": {
    "tags": []
   },
   "outputs": [
    {
     "name": "stderr",
     "output_type": "stream",
     "text": [
      "Global seed set to 42\n"
     ]
    }
   ],
   "source": [
    "DENSENET_INTERPRETATION_CONFIG = {\n",
    "    \"global\": {\n",
    "        \"seed\": 42,\n",
    "        \"output_folder\": \"../outputs/densenet\",\n",
    "    },\n",
    "\n",
    "    \"data\": {\n",
    "        \"cont_cols\": ['X_1', 'X_2', 'X_3', 'X_4', 'X_5', 'X_6', 'X_7', 'X_8', 'X_9', 'X_10', \n",
    "                      'X_11', 'X_12', 'X_13', 'X_14', 'X_15', 'X_16', 'X_17', 'X_18', 'X_19', \n",
    "                      'X_20', 'X_21', 'X_22', 'X_23', 'X_24', 'X_25', 'X_26', 'X_27', 'X_28', \n",
    "                      'X_29', 'X_30', 'X_31', 'X_32'],\n",
    "        \"cate_cols\": ['C_1', 'C_2', 'C_3', 'C_4', 'C_5', 'C_6', 'C_7', 'C_8', 'C_9', 'C_10', \n",
    "                      'C_11', 'C_12', 'C_13', 'C_14'],\n",
    "        \"target_col\": \"Y\"\n",
    "    },\n",
    "\n",
    "    \"model\": {\n",
    "        \"model_checkpoint_path\": \"../outputs/densenet/lightning_logs/version_0/checkpoints/epoch=19-step=4320.ckpt\"\n",
    "    },\n",
    "}\n",
    "\n",
    "learner = EntityDenseNetLearner(DENSENET_INTERPRETATION_CONFIG)\n",
    "learner.run_model_interpretation()"
   ]
  },
  {
   "cell_type": "code",
   "execution_count": null,
   "metadata": {},
   "outputs": [],
   "source": []
  }
 ],
 "metadata": {
  "kernelspec": {
   "display_name": "Python 3 (ipykernel)",
   "language": "python",
   "name": "python3"
  },
  "language_info": {
   "codemirror_mode": {
    "name": "ipython",
    "version": 3
   },
   "file_extension": ".py",
   "mimetype": "text/x-python",
   "name": "python",
   "nbconvert_exporter": "python",
   "pygments_lexer": "ipython3",
   "version": "3.9.16"
  }
 },
 "nbformat": 4,
 "nbformat_minor": 4
}
