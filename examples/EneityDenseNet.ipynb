{
 "cells": [
  {
   "cell_type": "code",
   "execution_count": 1,
   "metadata": {
    "tags": []
   },
   "outputs": [],
   "source": [
    "%load_ext autoreload\n",
    "%autoreload 2\n",
    "%matplotlib inline\n",
    "\n",
    "import sys\n",
    "sys.path.append(\"../\")\n",
    "\n",
    "from esidlm.learner.densenet import EntityDenseNetLearner"
   ]
  },
  {
   "cell_type": "code",
   "execution_count": 3,
   "metadata": {
    "tags": []
   },
   "outputs": [
    {
     "name": "stderr",
     "output_type": "stream",
     "text": [
      "Global seed set to 42\n",
      "GPU available: True (cuda), used: True\n",
      "TPU available: False, using: 0 TPU cores\n",
      "IPU available: False, using: 0 IPUs\n",
      "HPU available: False, using: 0 HPUs\n",
      "Missing logger folder: ../outputs/densenet/lightning_logs\n",
      "LOCAL_RANK: 0 - CUDA_VISIBLE_DEVICES: [0]\n",
      "\n",
      "  | Name      | Type           | Params\n",
      "---------------------------------------------\n",
      "0 | net       | EntityDenseNet | 100 K \n",
      "1 | criterion | MSELoss        | 0     \n",
      "2 | metric_r2 | R2Score        | 0     \n",
      "---------------------------------------------\n",
      "100 K     Trainable params\n",
      "0         Non-trainable params\n",
      "100 K     Total params\n",
      "0.400     Total estimated model params size (MB)\n"
     ]
    },
    {
     "data": {
      "application/vnd.jupyter.widget-view+json": {
       "model_id": "",
       "version_major": 2,
       "version_minor": 0
      },
      "text/plain": [
       "Sanity Checking: 0it [00:00, ?it/s]"
      ]
     },
     "metadata": {},
     "output_type": "display_data"
    },
    {
     "data": {
      "application/vnd.jupyter.widget-view+json": {
       "model_id": "07b8f1848c714a5f85566e40649eeebd",
       "version_major": 2,
       "version_minor": 0
      },
      "text/plain": [
       "Training: 0it [00:00, ?it/s]"
      ]
     },
     "metadata": {},
     "output_type": "display_data"
    },
    {
     "data": {
      "application/vnd.jupyter.widget-view+json": {
       "model_id": "",
       "version_major": 2,
       "version_minor": 0
      },
      "text/plain": [
       "Validation: 0it [00:00, ?it/s]"
      ]
     },
     "metadata": {},
     "output_type": "display_data"
    },
    {
     "name": "stderr",
     "output_type": "stream",
     "text": [
      "Metric valid_loss improved. New best score: 0.024\n",
      "Epoch 0, global step 216: 'valid_loss' reached 0.02411 (best 0.02411), saving model to '../outputs/densenet/lightning_logs/version_0/checkpoints/epoch=0-step=216.ckpt' as top 1\n"
     ]
    },
    {
     "data": {
      "application/vnd.jupyter.widget-view+json": {
       "model_id": "",
       "version_major": 2,
       "version_minor": 0
      },
      "text/plain": [
       "Validation: 0it [00:00, ?it/s]"
      ]
     },
     "metadata": {},
     "output_type": "display_data"
    },
    {
     "name": "stderr",
     "output_type": "stream",
     "text": [
      "Metric valid_loss improved by 0.005 >= min_delta = 0.0. New best score: 0.019\n",
      "Epoch 1, global step 432: 'valid_loss' reached 0.01903 (best 0.01903), saving model to '../outputs/densenet/lightning_logs/version_0/checkpoints/epoch=1-step=432.ckpt' as top 1\n"
     ]
    },
    {
     "data": {
      "application/vnd.jupyter.widget-view+json": {
       "model_id": "",
       "version_major": 2,
       "version_minor": 0
      },
      "text/plain": [
       "Validation: 0it [00:00, ?it/s]"
      ]
     },
     "metadata": {},
     "output_type": "display_data"
    },
    {
     "name": "stderr",
     "output_type": "stream",
     "text": [
      "Metric valid_loss improved by 0.002 >= min_delta = 0.0. New best score: 0.017\n",
      "Epoch 2, global step 648: 'valid_loss' reached 0.01671 (best 0.01671), saving model to '../outputs/densenet/lightning_logs/version_0/checkpoints/epoch=2-step=648.ckpt' as top 1\n"
     ]
    },
    {
     "data": {
      "application/vnd.jupyter.widget-view+json": {
       "model_id": "",
       "version_major": 2,
       "version_minor": 0
      },
      "text/plain": [
       "Validation: 0it [00:00, ?it/s]"
      ]
     },
     "metadata": {},
     "output_type": "display_data"
    },
    {
     "name": "stderr",
     "output_type": "stream",
     "text": [
      "Metric valid_loss improved by 0.001 >= min_delta = 0.0. New best score: 0.016\n",
      "Epoch 3, global step 864: 'valid_loss' reached 0.01574 (best 0.01574), saving model to '../outputs/densenet/lightning_logs/version_0/checkpoints/epoch=3-step=864.ckpt' as top 1\n"
     ]
    },
    {
     "data": {
      "application/vnd.jupyter.widget-view+json": {
       "model_id": "",
       "version_major": 2,
       "version_minor": 0
      },
      "text/plain": [
       "Validation: 0it [00:00, ?it/s]"
      ]
     },
     "metadata": {},
     "output_type": "display_data"
    },
    {
     "name": "stderr",
     "output_type": "stream",
     "text": [
      "Metric valid_loss improved by 0.001 >= min_delta = 0.0. New best score: 0.015\n",
      "Epoch 4, global step 1080: 'valid_loss' reached 0.01510 (best 0.01510), saving model to '../outputs/densenet/lightning_logs/version_0/checkpoints/epoch=4-step=1080.ckpt' as top 1\n"
     ]
    },
    {
     "data": {
      "application/vnd.jupyter.widget-view+json": {
       "model_id": "",
       "version_major": 2,
       "version_minor": 0
      },
      "text/plain": [
       "Validation: 0it [00:00, ?it/s]"
      ]
     },
     "metadata": {},
     "output_type": "display_data"
    },
    {
     "name": "stderr",
     "output_type": "stream",
     "text": [
      "Metric valid_loss improved by 0.000 >= min_delta = 0.0. New best score: 0.015\n",
      "Epoch 5, global step 1296: 'valid_loss' reached 0.01461 (best 0.01461), saving model to '../outputs/densenet/lightning_logs/version_0/checkpoints/epoch=5-step=1296.ckpt' as top 1\n"
     ]
    },
    {
     "data": {
      "application/vnd.jupyter.widget-view+json": {
       "model_id": "",
       "version_major": 2,
       "version_minor": 0
      },
      "text/plain": [
       "Validation: 0it [00:00, ?it/s]"
      ]
     },
     "metadata": {},
     "output_type": "display_data"
    },
    {
     "name": "stderr",
     "output_type": "stream",
     "text": [
      "Metric valid_loss improved by 0.000 >= min_delta = 0.0. New best score: 0.014\n",
      "Epoch 6, global step 1512: 'valid_loss' reached 0.01431 (best 0.01431), saving model to '../outputs/densenet/lightning_logs/version_0/checkpoints/epoch=6-step=1512.ckpt' as top 1\n"
     ]
    },
    {
     "data": {
      "application/vnd.jupyter.widget-view+json": {
       "model_id": "",
       "version_major": 2,
       "version_minor": 0
      },
      "text/plain": [
       "Validation: 0it [00:00, ?it/s]"
      ]
     },
     "metadata": {},
     "output_type": "display_data"
    },
    {
     "name": "stderr",
     "output_type": "stream",
     "text": [
      "Metric valid_loss improved by 0.000 >= min_delta = 0.0. New best score: 0.014\n",
      "Epoch 7, global step 1728: 'valid_loss' reached 0.01387 (best 0.01387), saving model to '../outputs/densenet/lightning_logs/version_0/checkpoints/epoch=7-step=1728.ckpt' as top 1\n"
     ]
    },
    {
     "data": {
      "application/vnd.jupyter.widget-view+json": {
       "model_id": "",
       "version_major": 2,
       "version_minor": 0
      },
      "text/plain": [
       "Validation: 0it [00:00, ?it/s]"
      ]
     },
     "metadata": {},
     "output_type": "display_data"
    },
    {
     "name": "stderr",
     "output_type": "stream",
     "text": [
      "Metric valid_loss improved by 0.000 >= min_delta = 0.0. New best score: 0.014\n",
      "Epoch 8, global step 1944: 'valid_loss' reached 0.01354 (best 0.01354), saving model to '../outputs/densenet/lightning_logs/version_0/checkpoints/epoch=8-step=1944.ckpt' as top 1\n"
     ]
    },
    {
     "data": {
      "application/vnd.jupyter.widget-view+json": {
       "model_id": "",
       "version_major": 2,
       "version_minor": 0
      },
      "text/plain": [
       "Validation: 0it [00:00, ?it/s]"
      ]
     },
     "metadata": {},
     "output_type": "display_data"
    },
    {
     "name": "stderr",
     "output_type": "stream",
     "text": [
      "Metric valid_loss improved by 0.001 >= min_delta = 0.0. New best score: 0.013\n",
      "Epoch 9, global step 2160: 'valid_loss' reached 0.01265 (best 0.01265), saving model to '../outputs/densenet/lightning_logs/version_0/checkpoints/epoch=9-step=2160.ckpt' as top 1\n"
     ]
    },
    {
     "data": {
      "application/vnd.jupyter.widget-view+json": {
       "model_id": "",
       "version_major": 2,
       "version_minor": 0
      },
      "text/plain": [
       "Validation: 0it [00:00, ?it/s]"
      ]
     },
     "metadata": {},
     "output_type": "display_data"
    },
    {
     "name": "stderr",
     "output_type": "stream",
     "text": [
      "Metric valid_loss improved by 0.000 >= min_delta = 0.0. New best score: 0.012\n",
      "Epoch 10, global step 2376: 'valid_loss' reached 0.01224 (best 0.01224), saving model to '../outputs/densenet/lightning_logs/version_0/checkpoints/epoch=10-step=2376.ckpt' as top 1\n"
     ]
    },
    {
     "data": {
      "application/vnd.jupyter.widget-view+json": {
       "model_id": "",
       "version_major": 2,
       "version_minor": 0
      },
      "text/plain": [
       "Validation: 0it [00:00, ?it/s]"
      ]
     },
     "metadata": {},
     "output_type": "display_data"
    },
    {
     "name": "stderr",
     "output_type": "stream",
     "text": [
      "Metric valid_loss improved by 0.000 >= min_delta = 0.0. New best score: 0.012\n",
      "Epoch 11, global step 2592: 'valid_loss' reached 0.01187 (best 0.01187), saving model to '../outputs/densenet/lightning_logs/version_0/checkpoints/epoch=11-step=2592.ckpt' as top 1\n"
     ]
    },
    {
     "data": {
      "application/vnd.jupyter.widget-view+json": {
       "model_id": "",
       "version_major": 2,
       "version_minor": 0
      },
      "text/plain": [
       "Validation: 0it [00:00, ?it/s]"
      ]
     },
     "metadata": {},
     "output_type": "display_data"
    },
    {
     "name": "stderr",
     "output_type": "stream",
     "text": [
      "Metric valid_loss improved by 0.000 >= min_delta = 0.0. New best score: 0.012\n",
      "Epoch 12, global step 2808: 'valid_loss' reached 0.01157 (best 0.01157), saving model to '../outputs/densenet/lightning_logs/version_0/checkpoints/epoch=12-step=2808.ckpt' as top 1\n"
     ]
    },
    {
     "data": {
      "application/vnd.jupyter.widget-view+json": {
       "model_id": "",
       "version_major": 2,
       "version_minor": 0
      },
      "text/plain": [
       "Validation: 0it [00:00, ?it/s]"
      ]
     },
     "metadata": {},
     "output_type": "display_data"
    },
    {
     "name": "stderr",
     "output_type": "stream",
     "text": [
      "Metric valid_loss improved by 0.000 >= min_delta = 0.0. New best score: 0.011\n",
      "Epoch 13, global step 3024: 'valid_loss' reached 0.01122 (best 0.01122), saving model to '../outputs/densenet/lightning_logs/version_0/checkpoints/epoch=13-step=3024.ckpt' as top 1\n"
     ]
    },
    {
     "data": {
      "application/vnd.jupyter.widget-view+json": {
       "model_id": "",
       "version_major": 2,
       "version_minor": 0
      },
      "text/plain": [
       "Validation: 0it [00:00, ?it/s]"
      ]
     },
     "metadata": {},
     "output_type": "display_data"
    },
    {
     "name": "stderr",
     "output_type": "stream",
     "text": [
      "Epoch 14, global step 3240: 'valid_loss' was not in top 1\n"
     ]
    },
    {
     "data": {
      "application/vnd.jupyter.widget-view+json": {
       "model_id": "",
       "version_major": 2,
       "version_minor": 0
      },
      "text/plain": [
       "Validation: 0it [00:00, ?it/s]"
      ]
     },
     "metadata": {},
     "output_type": "display_data"
    },
    {
     "name": "stderr",
     "output_type": "stream",
     "text": [
      "Epoch 15, global step 3456: 'valid_loss' was not in top 1\n"
     ]
    },
    {
     "data": {
      "application/vnd.jupyter.widget-view+json": {
       "model_id": "",
       "version_major": 2,
       "version_minor": 0
      },
      "text/plain": [
       "Validation: 0it [00:00, ?it/s]"
      ]
     },
     "metadata": {},
     "output_type": "display_data"
    },
    {
     "name": "stderr",
     "output_type": "stream",
     "text": [
      "Metric valid_loss improved by 0.000 >= min_delta = 0.0. New best score: 0.011\n",
      "Epoch 16, global step 3672: 'valid_loss' reached 0.01116 (best 0.01116), saving model to '../outputs/densenet/lightning_logs/version_0/checkpoints/epoch=16-step=3672.ckpt' as top 1\n"
     ]
    },
    {
     "data": {
      "application/vnd.jupyter.widget-view+json": {
       "model_id": "",
       "version_major": 2,
       "version_minor": 0
      },
      "text/plain": [
       "Validation: 0it [00:00, ?it/s]"
      ]
     },
     "metadata": {},
     "output_type": "display_data"
    },
    {
     "name": "stderr",
     "output_type": "stream",
     "text": [
      "Metric valid_loss improved by 0.001 >= min_delta = 0.0. New best score: 0.010\n",
      "Epoch 17, global step 3888: 'valid_loss' reached 0.01025 (best 0.01025), saving model to '../outputs/densenet/lightning_logs/version_0/checkpoints/epoch=17-step=3888.ckpt' as top 1\n"
     ]
    },
    {
     "data": {
      "application/vnd.jupyter.widget-view+json": {
       "model_id": "",
       "version_major": 2,
       "version_minor": 0
      },
      "text/plain": [
       "Validation: 0it [00:00, ?it/s]"
      ]
     },
     "metadata": {},
     "output_type": "display_data"
    },
    {
     "name": "stderr",
     "output_type": "stream",
     "text": [
      "Epoch 18, global step 4104: 'valid_loss' was not in top 1\n"
     ]
    },
    {
     "data": {
      "application/vnd.jupyter.widget-view+json": {
       "model_id": "",
       "version_major": 2,
       "version_minor": 0
      },
      "text/plain": [
       "Validation: 0it [00:00, ?it/s]"
      ]
     },
     "metadata": {},
     "output_type": "display_data"
    },
    {
     "name": "stderr",
     "output_type": "stream",
     "text": [
      "Metric valid_loss improved by 0.000 >= min_delta = 0.0. New best score: 0.010\n",
      "Epoch 19, global step 4320: 'valid_loss' reached 0.00981 (best 0.00981), saving model to '../outputs/densenet/lightning_logs/version_0/checkpoints/epoch=19-step=4320.ckpt' as top 1\n",
      "`Trainer.fit` stopped: `max_epochs=20` reached.\n",
      "Restoring states from the checkpoint path at ../outputs/densenet/lightning_logs/version_0/checkpoints/epoch=19-step=4320.ckpt\n",
      "LOCAL_RANK: 0 - CUDA_VISIBLE_DEVICES: [0]\n",
      "Loaded model weights from the checkpoint at ../outputs/densenet/lightning_logs/version_0/checkpoints/epoch=19-step=4320.ckpt\n"
     ]
    },
    {
     "data": {
      "application/vnd.jupyter.widget-view+json": {
       "model_id": "0e040cc4a7534f7e990ac595f7fd26e1",
       "version_major": 2,
       "version_minor": 0
      },
      "text/plain": [
       "Predicting: 0it [00:00, ?it/s]"
      ]
     },
     "metadata": {},
     "output_type": "display_data"
    },
    {
     "name": "stdout",
     "output_type": "stream",
     "text": [
      "{'COUNT': 31457, 'RMSE': 0.1004419679193465, 'MAE': 0.052906818904919994, 'R2': 0.8312266407244983, 'PEARSON': 0.9121358942275062}\n"
     ]
    }
   ],
   "source": [
    "DENSENET_TRAINING_CONFIG = {\n",
    "    \"global\": {\n",
    "        \"seed\": 42,\n",
    "        \"output_folder\": \"../outputs/densenet\",\n",
    "    },\n",
    "\n",
    "    \"data\": {\n",
    "        \"train_data\": \"../data/densenet/train.csv\",\n",
    "        \"valid_data\": \"../data/densenet/valid.csv\",\n",
    "        \"test_data\": \"../data/densenet/test.csv\",\n",
    "\n",
    "        \"cont_cols\": ['X_1', 'X_2', 'X_3', 'X_4', 'X_5', 'X_6', 'X_7', 'X_8', 'X_9', 'X_10', \n",
    "                      'X_11', 'X_12', 'X_13', 'X_14', 'X_15', 'X_16', 'X_17', 'X_18', 'X_19', \n",
    "                      'X_20', 'X_21', 'X_22', 'X_23', 'X_24', 'X_25', 'X_26', 'X_27', 'X_28', \n",
    "                      'X_29', 'X_30', 'X_31', 'X_32'],\n",
    "        \"cate_cols\": ['C_1', 'C_2', 'C_3', 'C_4', 'C_5', 'C_6', 'C_7', 'C_8', 'C_9', 'C_10', \n",
    "                      'C_11', 'C_12', 'C_13', 'C_14'],\n",
    "        \"target_col\": \"Y\",\n",
    "    },\n",
    "\n",
    "    \"dataloader\": {\n",
    "        \"batch_size\": 1024,\n",
    "        \"num_workers\": 4,\n",
    "    },\n",
    "\n",
    "    \"model\": {\n",
    "        \"net\": {\n",
    "            \"d_embed\": 32,\n",
    "            \"d_model\": 128,\n",
    "            \"n_layers\": 2,\n",
    "            \"p_drop\": 0.3,\n",
    "            \"act_fn\": \"relu\"\n",
    "        },\n",
    "        \"optimizer\": {\n",
    "            \"lr\": 3e-4,\n",
    "            \"weight_decay\": 1e-5,\n",
    "        },\n",
    "    },\n",
    "\n",
    "    \"callback\": {\n",
    "        \"model_checkpoint\": {\n",
    "            \"save_top_k\": 1,\n",
    "            \"monitor\": \"valid_loss\",\n",
    "            \"mode\": \"min\",\n",
    "            \"verbose\": True\n",
    "        },\n",
    "        \"early_stopping\": {\n",
    "            \"monitor\": \"valid_loss\",\n",
    "            \"mode\": \"min\",\n",
    "            \"patience\": 5,\n",
    "            \"verbose\": True\n",
    "        }\n",
    "    },\n",
    "\n",
    "    \"trainer\": {\n",
    "        \"max_epochs\": 20,\n",
    "        \"accelerator\": \"gpu\",\n",
    "        \"devices\": 1,\n",
    "        \"deterministic\": True\n",
    "    }\n",
    "}\n",
    "\n",
    "learner = EntityDenseNetLearner(DENSENET_TRAINING_CONFIG)\n",
    "learner.run_model_training()"
   ]
  },
  {
   "cell_type": "code",
   "execution_count": 5,
   "metadata": {
    "tags": []
   },
   "outputs": [
    {
     "name": "stderr",
     "output_type": "stream",
     "text": [
      "Global seed set to 42\n",
      "GPU available: True (cuda), used: True\n",
      "TPU available: False, using: 0 TPU cores\n",
      "IPU available: False, using: 0 IPUs\n",
      "HPU available: False, using: 0 HPUs\n",
      "LOCAL_RANK: 0 - CUDA_VISIBLE_DEVICES: [0]\n"
     ]
    },
    {
     "data": {
      "application/vnd.jupyter.widget-view+json": {
       "model_id": "1e8b323e66394f8b8a8e86106407c4d6",
       "version_major": 2,
       "version_minor": 0
      },
      "text/plain": [
       "Predicting: 0it [00:00, ?it/s]"
      ]
     },
     "metadata": {},
     "output_type": "display_data"
    },
    {
     "name": "stderr",
     "output_type": "stream",
     "text": [
      "LOCAL_RANK: 0 - CUDA_VISIBLE_DEVICES: [0]\n"
     ]
    },
    {
     "name": "stdout",
     "output_type": "stream",
     "text": [
      "Inference test_3 Finish.\n"
     ]
    },
    {
     "data": {
      "application/vnd.jupyter.widget-view+json": {
       "model_id": "2f259856874448acbf1ecff71237bfce",
       "version_major": 2,
       "version_minor": 0
      },
      "text/plain": [
       "Predicting: 0it [00:00, ?it/s]"
      ]
     },
     "metadata": {},
     "output_type": "display_data"
    },
    {
     "name": "stderr",
     "output_type": "stream",
     "text": [
      "LOCAL_RANK: 0 - CUDA_VISIBLE_DEVICES: [0]\n"
     ]
    },
    {
     "name": "stdout",
     "output_type": "stream",
     "text": [
      "Inference test_2 Finish.\n"
     ]
    },
    {
     "data": {
      "application/vnd.jupyter.widget-view+json": {
       "model_id": "b4dc6db952254855bdce439e9eb0bfcb",
       "version_major": 2,
       "version_minor": 0
      },
      "text/plain": [
       "Predicting: 0it [00:00, ?it/s]"
      ]
     },
     "metadata": {},
     "output_type": "display_data"
    },
    {
     "name": "stdout",
     "output_type": "stream",
     "text": [
      "Inference test_1 Finish.\n"
     ]
    }
   ],
   "source": [
    "DENSENET_INFERENCE_CONFIG = {\n",
    "    \"global\": {\n",
    "        \"seed\": 42,\n",
    "        \"output_folder\": \"../outputs/densenet\",\n",
    "    },\n",
    "\n",
    "    \"data\": {\n",
    "        \"inference_folder\": \"../data/densenet/test\",\n",
    "\n",
    "        \"cont_cols\": ['X_1', 'X_2', 'X_3', 'X_4', 'X_5', 'X_6', 'X_7', 'X_8', 'X_9', 'X_10', \n",
    "                      'X_11', 'X_12', 'X_13', 'X_14', 'X_15', 'X_16', 'X_17', 'X_18', 'X_19', \n",
    "                      'X_20', 'X_21', 'X_22', 'X_23', 'X_24', 'X_25', 'X_26', 'X_27', 'X_28', \n",
    "                      'X_29', 'X_30', 'X_31', 'X_32'],\n",
    "        \"cate_cols\": ['C_1', 'C_2', 'C_3', 'C_4', 'C_5', 'C_6', 'C_7', 'C_8', 'C_9', 'C_10', \n",
    "                      'C_11', 'C_12', 'C_13', 'C_14'],\n",
    "        \"target_col\": \"Y\"\n",
    "    },\n",
    "\n",
    "    \"dataloader\": {\n",
    "        \"batch_size\": 1024,\n",
    "        \"num_workers\": 4,\n",
    "    },\n",
    "\n",
    "    \"model\": {\n",
    "        \"model_checkpoint_path\": \"../outputs/densenet/lightning_logs/version_0/checkpoints/epoch=19-step=4320.ckpt\"\n",
    "    },\n",
    "\n",
    "    \"trainer\": {\n",
    "        \"accelerator\": \"gpu\",\n",
    "        \"devices\": 1,\n",
    "    },\n",
    "}\n",
    "\n",
    "learner = EntityDenseNetLearner(DENSENET_INFERENCE_CONFIG)\n",
    "learner.run_model_inference()"
   ]
  },
  {
   "cell_type": "code",
   "execution_count": 8,
   "metadata": {
    "tags": []
   },
   "outputs": [
    {
     "name": "stderr",
     "output_type": "stream",
     "text": [
      "Global seed set to 42\n"
     ]
    }
   ],
   "source": [
    "DENSENET_INTERPRETATION_CONFIG = {\n",
    "    \"global\": {\n",
    "        \"seed\": 42,\n",
    "        \"output_folder\": \"../outputs/densenet\",\n",
    "    },\n",
    "\n",
    "    \"data\": {\n",
    "        \"cont_cols\": ['X_1', 'X_2', 'X_3', 'X_4', 'X_5', 'X_6', 'X_7', 'X_8', 'X_9', 'X_10', \n",
    "                      'X_11', 'X_12', 'X_13', 'X_14', 'X_15', 'X_16', 'X_17', 'X_18', 'X_19', \n",
    "                      'X_20', 'X_21', 'X_22', 'X_23', 'X_24', 'X_25', 'X_26', 'X_27', 'X_28', \n",
    "                      'X_29', 'X_30', 'X_31', 'X_32'],\n",
    "        \"cate_cols\": ['C_1', 'C_2', 'C_3', 'C_4', 'C_5', 'C_6', 'C_7', 'C_8', 'C_9', 'C_10', \n",
    "                      'C_11', 'C_12', 'C_13', 'C_14'],\n",
    "        \"target_col\": \"Y\"\n",
    "    },\n",
    "\n",
    "    \"model\": {\n",
    "        \"model_checkpoint_path\": \"../outputs/densenet/lightning_logs/version_0/checkpoints/epoch=19-step=4320.ckpt\"\n",
    "    },\n",
    "}\n",
    "\n",
    "learner = EntityDenseNetLearner(DENSENET_INTERPRETATION_CONFIG)\n",
    "learner.run_model_interpretation()"
   ]
  },
  {
   "cell_type": "code",
   "execution_count": null,
   "metadata": {},
   "outputs": [],
   "source": []
  }
 ],
 "metadata": {
  "kernelspec": {
   "display_name": "Python 3 (ipykernel)",
   "language": "python",
   "name": "python3"
  },
  "language_info": {
   "codemirror_mode": {
    "name": "ipython",
    "version": 3
   },
   "file_extension": ".py",
   "mimetype": "text/x-python",
   "name": "python",
   "nbconvert_exporter": "python",
   "pygments_lexer": "ipython3",
   "version": "3.9.16"
  }
 },
 "nbformat": 4,
 "nbformat_minor": 4
}
