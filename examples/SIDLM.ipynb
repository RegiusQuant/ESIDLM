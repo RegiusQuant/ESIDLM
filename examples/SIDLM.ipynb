{
 "cells": [
  {
   "cell_type": "code",
   "execution_count": 1,
   "id": "37ffdc38-d1af-4571-8f92-c2b6de45aa7a",
   "metadata": {
    "tags": []
   },
   "outputs": [],
   "source": [
    "%load_ext autoreload\n",
    "%autoreload 2\n",
    "%matplotlib inline\n",
    "\n",
    "import sys\n",
    "sys.path.append(\"../\")\n",
    "\n",
    "from esidlm.learner.sidlm import SIDLMLearner"
   ]
  },
  {
   "cell_type": "code",
   "execution_count": 2,
   "id": "755a492b-f290-4f43-bcb2-c09e35e2fdc2",
   "metadata": {
    "tags": []
   },
   "outputs": [
    {
     "name": "stderr",
     "output_type": "stream",
     "text": [
      "Global seed set to 42\n",
      "GPU available: True (cuda), used: True\n",
      "TPU available: False, using: 0 TPU cores\n",
      "IPU available: False, using: 0 IPUs\n",
      "HPU available: False, using: 0 HPUs\n",
      "Missing logger folder: ../outputs/sidlm/lightning_logs\n",
      "LOCAL_RANK: 0 - CUDA_VISIBLE_DEVICES: [0]\n",
      "\n",
      "  | Name      | Type              | Params\n",
      "------------------------------------------------\n",
      "0 | net       | SIDLM             | 100 K \n",
      "1 | criterion | RelativeErrorLoss | 0     \n",
      "2 | metric_r2 | R2Score           | 0     \n",
      "------------------------------------------------\n",
      "100 K     Trainable params\n",
      "0         Non-trainable params\n",
      "100 K     Total params\n",
      "0.401     Total estimated model params size (MB)\n"
     ]
    },
    {
     "data": {
      "application/vnd.jupyter.widget-view+json": {
       "model_id": "87c2f0f88c6f42558ffc4f3cf9263981",
       "version_major": 2,
       "version_minor": 0
      },
      "text/plain": [
       "Sanity Checking: 0it [00:00, ?it/s]"
      ]
     },
     "metadata": {},
     "output_type": "display_data"
    },
    {
     "data": {
      "application/vnd.jupyter.widget-view+json": {
       "model_id": "b60d29c445534af5983907bd19fefe49",
       "version_major": 2,
       "version_minor": 0
      },
      "text/plain": [
       "Training: 0it [00:00, ?it/s]"
      ]
     },
     "metadata": {},
     "output_type": "display_data"
    },
    {
     "data": {
      "application/vnd.jupyter.widget-view+json": {
       "model_id": "1ff8a05de0b5499ab61e8ad3630cb850",
       "version_major": 2,
       "version_minor": 0
      },
      "text/plain": [
       "Validation: 0it [00:00, ?it/s]"
      ]
     },
     "metadata": {},
     "output_type": "display_data"
    },
    {
     "name": "stderr",
     "output_type": "stream",
     "text": [
      "Metric valid_loss improved. New best score: 2.608\n",
      "Epoch 0, global step 216: 'valid_loss' reached 2.60793 (best 2.60793), saving model to '../outputs/sidlm/lightning_logs/version_0/checkpoints/epoch=0-step=216.ckpt' as top 1\n"
     ]
    },
    {
     "data": {
      "application/vnd.jupyter.widget-view+json": {
       "model_id": "c13d31fc4128466194e46879307c2c21",
       "version_major": 2,
       "version_minor": 0
      },
      "text/plain": [
       "Validation: 0it [00:00, ?it/s]"
      ]
     },
     "metadata": {},
     "output_type": "display_data"
    },
    {
     "name": "stderr",
     "output_type": "stream",
     "text": [
      "Metric valid_loss improved by 1.089 >= min_delta = 0.0. New best score: 1.519\n",
      "Epoch 1, global step 432: 'valid_loss' reached 1.51891 (best 1.51891), saving model to '../outputs/sidlm/lightning_logs/version_0/checkpoints/epoch=1-step=432.ckpt' as top 1\n"
     ]
    },
    {
     "data": {
      "application/vnd.jupyter.widget-view+json": {
       "model_id": "0cf8ed8347d14db6ae09974980ded250",
       "version_major": 2,
       "version_minor": 0
      },
      "text/plain": [
       "Validation: 0it [00:00, ?it/s]"
      ]
     },
     "metadata": {},
     "output_type": "display_data"
    },
    {
     "name": "stderr",
     "output_type": "stream",
     "text": [
      "Metric valid_loss improved by 0.226 >= min_delta = 0.0. New best score: 1.293\n",
      "Epoch 2, global step 648: 'valid_loss' reached 1.29289 (best 1.29289), saving model to '../outputs/sidlm/lightning_logs/version_0/checkpoints/epoch=2-step=648.ckpt' as top 1\n"
     ]
    },
    {
     "data": {
      "application/vnd.jupyter.widget-view+json": {
       "model_id": "624a3b3facb44aa6a812f807d33b36dc",
       "version_major": 2,
       "version_minor": 0
      },
      "text/plain": [
       "Validation: 0it [00:00, ?it/s]"
      ]
     },
     "metadata": {},
     "output_type": "display_data"
    },
    {
     "name": "stderr",
     "output_type": "stream",
     "text": [
      "Metric valid_loss improved by 0.081 >= min_delta = 0.0. New best score: 1.212\n",
      "Epoch 3, global step 864: 'valid_loss' reached 1.21204 (best 1.21204), saving model to '../outputs/sidlm/lightning_logs/version_0/checkpoints/epoch=3-step=864.ckpt' as top 1\n"
     ]
    },
    {
     "data": {
      "application/vnd.jupyter.widget-view+json": {
       "model_id": "bbc7ae38c79f49f490ea76673d4660ec",
       "version_major": 2,
       "version_minor": 0
      },
      "text/plain": [
       "Validation: 0it [00:00, ?it/s]"
      ]
     },
     "metadata": {},
     "output_type": "display_data"
    },
    {
     "name": "stderr",
     "output_type": "stream",
     "text": [
      "Metric valid_loss improved by 0.052 >= min_delta = 0.0. New best score: 1.160\n",
      "Epoch 4, global step 1080: 'valid_loss' reached 1.15991 (best 1.15991), saving model to '../outputs/sidlm/lightning_logs/version_0/checkpoints/epoch=4-step=1080.ckpt' as top 1\n"
     ]
    },
    {
     "data": {
      "application/vnd.jupyter.widget-view+json": {
       "model_id": "d30a01b10ad44242bca0dbb9031ac954",
       "version_major": 2,
       "version_minor": 0
      },
      "text/plain": [
       "Validation: 0it [00:00, ?it/s]"
      ]
     },
     "metadata": {},
     "output_type": "display_data"
    },
    {
     "name": "stderr",
     "output_type": "stream",
     "text": [
      "Metric valid_loss improved by 0.043 >= min_delta = 0.0. New best score: 1.117\n",
      "Epoch 5, global step 1296: 'valid_loss' reached 1.11652 (best 1.11652), saving model to '../outputs/sidlm/lightning_logs/version_0/checkpoints/epoch=5-step=1296.ckpt' as top 1\n"
     ]
    },
    {
     "data": {
      "application/vnd.jupyter.widget-view+json": {
       "model_id": "53256ee7eb9f4ddd9ea5dc1e9305592d",
       "version_major": 2,
       "version_minor": 0
      },
      "text/plain": [
       "Validation: 0it [00:00, ?it/s]"
      ]
     },
     "metadata": {},
     "output_type": "display_data"
    },
    {
     "name": "stderr",
     "output_type": "stream",
     "text": [
      "Metric valid_loss improved by 0.027 >= min_delta = 0.0. New best score: 1.090\n",
      "Epoch 6, global step 1512: 'valid_loss' reached 1.08974 (best 1.08974), saving model to '../outputs/sidlm/lightning_logs/version_0/checkpoints/epoch=6-step=1512.ckpt' as top 1\n"
     ]
    },
    {
     "data": {
      "application/vnd.jupyter.widget-view+json": {
       "model_id": "ad25bdb7339841718cfd620037c6af8d",
       "version_major": 2,
       "version_minor": 0
      },
      "text/plain": [
       "Validation: 0it [00:00, ?it/s]"
      ]
     },
     "metadata": {},
     "output_type": "display_data"
    },
    {
     "name": "stderr",
     "output_type": "stream",
     "text": [
      "Metric valid_loss improved by 0.026 >= min_delta = 0.0. New best score: 1.064\n",
      "Epoch 7, global step 1728: 'valid_loss' reached 1.06369 (best 1.06369), saving model to '../outputs/sidlm/lightning_logs/version_0/checkpoints/epoch=7-step=1728.ckpt' as top 1\n"
     ]
    },
    {
     "data": {
      "application/vnd.jupyter.widget-view+json": {
       "model_id": "5f3eabc59ce14c809aa43304d1b3c058",
       "version_major": 2,
       "version_minor": 0
      },
      "text/plain": [
       "Validation: 0it [00:00, ?it/s]"
      ]
     },
     "metadata": {},
     "output_type": "display_data"
    },
    {
     "name": "stderr",
     "output_type": "stream",
     "text": [
      "Metric valid_loss improved by 0.017 >= min_delta = 0.0. New best score: 1.046\n",
      "Epoch 8, global step 1944: 'valid_loss' reached 1.04621 (best 1.04621), saving model to '../outputs/sidlm/lightning_logs/version_0/checkpoints/epoch=8-step=1944.ckpt' as top 1\n"
     ]
    },
    {
     "data": {
      "application/vnd.jupyter.widget-view+json": {
       "model_id": "68705433d3034e59b21ae76ec5f9348d",
       "version_major": 2,
       "version_minor": 0
      },
      "text/plain": [
       "Validation: 0it [00:00, ?it/s]"
      ]
     },
     "metadata": {},
     "output_type": "display_data"
    },
    {
     "name": "stderr",
     "output_type": "stream",
     "text": [
      "Metric valid_loss improved by 0.032 >= min_delta = 0.0. New best score: 1.015\n",
      "Epoch 9, global step 2160: 'valid_loss' reached 1.01467 (best 1.01467), saving model to '../outputs/sidlm/lightning_logs/version_0/checkpoints/epoch=9-step=2160.ckpt' as top 1\n"
     ]
    },
    {
     "data": {
      "application/vnd.jupyter.widget-view+json": {
       "model_id": "282c9f53a7954158bcc54de2c42d4a1d",
       "version_major": 2,
       "version_minor": 0
      },
      "text/plain": [
       "Validation: 0it [00:00, ?it/s]"
      ]
     },
     "metadata": {},
     "output_type": "display_data"
    },
    {
     "name": "stderr",
     "output_type": "stream",
     "text": [
      "Metric valid_loss improved by 0.004 >= min_delta = 0.0. New best score: 1.010\n",
      "Epoch 10, global step 2376: 'valid_loss' reached 1.01040 (best 1.01040), saving model to '../outputs/sidlm/lightning_logs/version_0/checkpoints/epoch=10-step=2376.ckpt' as top 1\n"
     ]
    },
    {
     "data": {
      "application/vnd.jupyter.widget-view+json": {
       "model_id": "f199ba8ae24b48bf96c4c6b7b1aa2eba",
       "version_major": 2,
       "version_minor": 0
      },
      "text/plain": [
       "Validation: 0it [00:00, ?it/s]"
      ]
     },
     "metadata": {},
     "output_type": "display_data"
    },
    {
     "name": "stderr",
     "output_type": "stream",
     "text": [
      "Metric valid_loss improved by 0.006 >= min_delta = 0.0. New best score: 1.004\n",
      "Epoch 11, global step 2592: 'valid_loss' reached 1.00446 (best 1.00446), saving model to '../outputs/sidlm/lightning_logs/version_0/checkpoints/epoch=11-step=2592.ckpt' as top 1\n"
     ]
    },
    {
     "data": {
      "application/vnd.jupyter.widget-view+json": {
       "model_id": "220e9fb2fb594fa29ae92d5217ecfb95",
       "version_major": 2,
       "version_minor": 0
      },
      "text/plain": [
       "Validation: 0it [00:00, ?it/s]"
      ]
     },
     "metadata": {},
     "output_type": "display_data"
    },
    {
     "name": "stderr",
     "output_type": "stream",
     "text": [
      "Metric valid_loss improved by 0.041 >= min_delta = 0.0. New best score: 0.964\n",
      "Epoch 12, global step 2808: 'valid_loss' reached 0.96371 (best 0.96371), saving model to '../outputs/sidlm/lightning_logs/version_0/checkpoints/epoch=12-step=2808.ckpt' as top 1\n"
     ]
    },
    {
     "data": {
      "application/vnd.jupyter.widget-view+json": {
       "model_id": "769249052e444715911d045e82a20148",
       "version_major": 2,
       "version_minor": 0
      },
      "text/plain": [
       "Validation: 0it [00:00, ?it/s]"
      ]
     },
     "metadata": {},
     "output_type": "display_data"
    },
    {
     "name": "stderr",
     "output_type": "stream",
     "text": [
      "Metric valid_loss improved by 0.005 >= min_delta = 0.0. New best score: 0.958\n",
      "Epoch 13, global step 3024: 'valid_loss' reached 0.95831 (best 0.95831), saving model to '../outputs/sidlm/lightning_logs/version_0/checkpoints/epoch=13-step=3024.ckpt' as top 1\n"
     ]
    },
    {
     "data": {
      "application/vnd.jupyter.widget-view+json": {
       "model_id": "5e48c49c1f05499191a9d9254c186acb",
       "version_major": 2,
       "version_minor": 0
      },
      "text/plain": [
       "Validation: 0it [00:00, ?it/s]"
      ]
     },
     "metadata": {},
     "output_type": "display_data"
    },
    {
     "name": "stderr",
     "output_type": "stream",
     "text": [
      "Metric valid_loss improved by 0.014 >= min_delta = 0.0. New best score: 0.944\n",
      "Epoch 14, global step 3240: 'valid_loss' reached 0.94423 (best 0.94423), saving model to '../outputs/sidlm/lightning_logs/version_0/checkpoints/epoch=14-step=3240.ckpt' as top 1\n"
     ]
    },
    {
     "data": {
      "application/vnd.jupyter.widget-view+json": {
       "model_id": "f8d6ebdbe19345dcb17ca21078a06db2",
       "version_major": 2,
       "version_minor": 0
      },
      "text/plain": [
       "Validation: 0it [00:00, ?it/s]"
      ]
     },
     "metadata": {},
     "output_type": "display_data"
    },
    {
     "name": "stderr",
     "output_type": "stream",
     "text": [
      "Metric valid_loss improved by 0.013 >= min_delta = 0.0. New best score: 0.931\n",
      "Epoch 15, global step 3456: 'valid_loss' reached 0.93116 (best 0.93116), saving model to '../outputs/sidlm/lightning_logs/version_0/checkpoints/epoch=15-step=3456.ckpt' as top 1\n"
     ]
    },
    {
     "data": {
      "application/vnd.jupyter.widget-view+json": {
       "model_id": "6eee816a29be4907a43c8e73a4ba83a0",
       "version_major": 2,
       "version_minor": 0
      },
      "text/plain": [
       "Validation: 0it [00:00, ?it/s]"
      ]
     },
     "metadata": {},
     "output_type": "display_data"
    },
    {
     "name": "stderr",
     "output_type": "stream",
     "text": [
      "Metric valid_loss improved by 0.027 >= min_delta = 0.0. New best score: 0.904\n",
      "Epoch 16, global step 3672: 'valid_loss' reached 0.90385 (best 0.90385), saving model to '../outputs/sidlm/lightning_logs/version_0/checkpoints/epoch=16-step=3672.ckpt' as top 1\n"
     ]
    },
    {
     "data": {
      "application/vnd.jupyter.widget-view+json": {
       "model_id": "929e5dd0900b4b5793da416e1b953255",
       "version_major": 2,
       "version_minor": 0
      },
      "text/plain": [
       "Validation: 0it [00:00, ?it/s]"
      ]
     },
     "metadata": {},
     "output_type": "display_data"
    },
    {
     "name": "stderr",
     "output_type": "stream",
     "text": [
      "Metric valid_loss improved by 0.017 >= min_delta = 0.0. New best score: 0.887\n",
      "Epoch 17, global step 3888: 'valid_loss' reached 0.88716 (best 0.88716), saving model to '../outputs/sidlm/lightning_logs/version_0/checkpoints/epoch=17-step=3888.ckpt' as top 1\n"
     ]
    },
    {
     "data": {
      "application/vnd.jupyter.widget-view+json": {
       "model_id": "7a778940f27a4b6897864b2ae9adee0b",
       "version_major": 2,
       "version_minor": 0
      },
      "text/plain": [
       "Validation: 0it [00:00, ?it/s]"
      ]
     },
     "metadata": {},
     "output_type": "display_data"
    },
    {
     "name": "stderr",
     "output_type": "stream",
     "text": [
      "Metric valid_loss improved by 0.001 >= min_delta = 0.0. New best score: 0.886\n",
      "Epoch 18, global step 4104: 'valid_loss' reached 0.88598 (best 0.88598), saving model to '../outputs/sidlm/lightning_logs/version_0/checkpoints/epoch=18-step=4104.ckpt' as top 1\n"
     ]
    },
    {
     "data": {
      "application/vnd.jupyter.widget-view+json": {
       "model_id": "4ecca6795e1e49a88d319f784fc5b4f3",
       "version_major": 2,
       "version_minor": 0
      },
      "text/plain": [
       "Validation: 0it [00:00, ?it/s]"
      ]
     },
     "metadata": {},
     "output_type": "display_data"
    },
    {
     "name": "stderr",
     "output_type": "stream",
     "text": [
      "Metric valid_loss improved by 0.007 >= min_delta = 0.0. New best score: 0.879\n",
      "Epoch 19, global step 4320: 'valid_loss' reached 0.87899 (best 0.87899), saving model to '../outputs/sidlm/lightning_logs/version_0/checkpoints/epoch=19-step=4320.ckpt' as top 1\n",
      "`Trainer.fit` stopped: `max_epochs=20` reached.\n",
      "Restoring states from the checkpoint path at ../outputs/sidlm/lightning_logs/version_0/checkpoints/epoch=19-step=4320.ckpt\n",
      "LOCAL_RANK: 0 - CUDA_VISIBLE_DEVICES: [0]\n",
      "Loaded model weights from the checkpoint at ../outputs/sidlm/lightning_logs/version_0/checkpoints/epoch=19-step=4320.ckpt\n"
     ]
    },
    {
     "data": {
      "application/vnd.jupyter.widget-view+json": {
       "model_id": "24a1a4c4ca6f40f79e3bb7ff1b31261b",
       "version_major": 2,
       "version_minor": 0
      },
      "text/plain": [
       "Predicting: 0it [00:00, ?it/s]"
      ]
     },
     "metadata": {},
     "output_type": "display_data"
    },
    {
     "name": "stdout",
     "output_type": "stream",
     "text": [
      "{'COUNT': 31457, 'RMSE': 0.13761255202532807, 'MAE': 0.06355239453122093, 'R2': 0.6831967951362989, 'PEARSON': 0.8771533336828209}\n"
     ]
    }
   ],
   "source": [
    "SIDLM_TRAINING_CONFIG = {\n",
    "    \"global\": {\n",
    "        \"seed\": 42,\n",
    "        \"output_folder\": \"../outputs/sidlm\",\n",
    "    },\n",
    "\n",
    "    \"data\": {\n",
    "        \"train_data\": \"../data/sidlm/train.csv\",\n",
    "        \"valid_data\": \"../data/sidlm/valid.csv\",\n",
    "        \"test_data\": \"../data/sidlm/test.csv\",\n",
    "\n",
    "        \"wide_cols\": ['C_1', 'C_2', 'C_3', 'C_4', 'C_5', 'C_6', 'C_7', 'C_8', 'C_9', 'C_10', \n",
    "                      'C_11', 'C_12', 'C_13', 'C_14'],\n",
    "        \"cont_cols\": ['X_1', 'X_2', 'X_3', 'X_4', 'X_5', 'X_6', 'X_7', 'X_8', 'X_9', 'X_10', \n",
    "                      'X_11', 'X_12', 'X_13', 'X_14', 'X_15', 'X_16', 'X_17', 'X_18', 'X_19', \n",
    "                      'X_20', 'X_21', 'X_22', 'X_23', 'X_24', 'X_25', 'X_26', 'X_27', 'X_28', \n",
    "                      'X_29', 'X_30', 'X_31', 'X_32'],\n",
    "        \"cate_cols\": ['C_1', 'C_2', 'C_3', 'C_4', 'C_5', 'C_6', 'C_7', 'C_8', 'C_9', 'C_10', \n",
    "                      'C_11', 'C_12', 'C_13', 'C_14'],\n",
    "        \"target_col\": \"Y\",\n",
    "    },\n",
    "\n",
    "    \"dataloader\": {\n",
    "        \"batch_size\": 1024,\n",
    "        \"num_workers\": 4,\n",
    "    },\n",
    "\n",
    "    \"model\": {\n",
    "        \"net\": {\n",
    "            \"d_embed\": 32,\n",
    "            \"d_model\": 128,\n",
    "            \"n_layers\": 2,\n",
    "            \"p_drop\": 0.3,\n",
    "            \"act_fn\": \"relu\"\n",
    "        },\n",
    "        \"loss\": {\n",
    "            \"name\": \"rel\",\n",
    "            \"a\": 0.15,\n",
    "            \"b\": 0.05,\n",
    "        },\n",
    "        \"optimizer\": {\n",
    "            \"lr\": 3e-4,\n",
    "            \"weight_decay\": 1e-5,\n",
    "        },\n",
    "    },\n",
    "\n",
    "    \"callback\": {\n",
    "        \"model_checkpoint\": {\n",
    "            \"save_top_k\": 1,\n",
    "            \"monitor\": \"valid_loss\",\n",
    "            \"mode\": \"min\",\n",
    "            \"verbose\": True\n",
    "        },\n",
    "        \"early_stopping\": {\n",
    "            \"monitor\": \"valid_loss\",\n",
    "            \"mode\": \"min\",\n",
    "            \"patience\": 5,\n",
    "            \"verbose\": True\n",
    "        }\n",
    "    },\n",
    "\n",
    "    \"trainer\": {\n",
    "        \"max_epochs\": 20,\n",
    "        \"accelerator\": \"gpu\",\n",
    "        \"devices\": 1,\n",
    "        \"deterministic\": True\n",
    "    }\n",
    "}\n",
    "\n",
    "learner = SIDLMLearner(SIDLM_TRAINING_CONFIG)\n",
    "learner.run_model_training()"
   ]
  },
  {
   "cell_type": "code",
   "execution_count": 4,
   "id": "897cf5bf-0db5-46bf-b03f-03fc9397d531",
   "metadata": {
    "tags": []
   },
   "outputs": [
    {
     "name": "stderr",
     "output_type": "stream",
     "text": [
      "Global seed set to 42\n",
      "GPU available: True (cuda), used: True\n",
      "TPU available: False, using: 0 TPU cores\n",
      "IPU available: False, using: 0 IPUs\n",
      "HPU available: False, using: 0 HPUs\n",
      "LOCAL_RANK: 0 - CUDA_VISIBLE_DEVICES: [0]\n"
     ]
    },
    {
     "data": {
      "application/vnd.jupyter.widget-view+json": {
       "model_id": "957a97b12ed5435183e9681ee469920c",
       "version_major": 2,
       "version_minor": 0
      },
      "text/plain": [
       "Predicting: 0it [00:00, ?it/s]"
      ]
     },
     "metadata": {},
     "output_type": "display_data"
    },
    {
     "name": "stderr",
     "output_type": "stream",
     "text": [
      "LOCAL_RANK: 0 - CUDA_VISIBLE_DEVICES: [0]\n"
     ]
    },
    {
     "name": "stdout",
     "output_type": "stream",
     "text": [
      "Inference test_3 Finish.\n"
     ]
    },
    {
     "data": {
      "application/vnd.jupyter.widget-view+json": {
       "model_id": "cffec3426fa441ce8c0483ec15e618bd",
       "version_major": 2,
       "version_minor": 0
      },
      "text/plain": [
       "Predicting: 0it [00:00, ?it/s]"
      ]
     },
     "metadata": {},
     "output_type": "display_data"
    },
    {
     "name": "stderr",
     "output_type": "stream",
     "text": [
      "LOCAL_RANK: 0 - CUDA_VISIBLE_DEVICES: [0]\n"
     ]
    },
    {
     "name": "stdout",
     "output_type": "stream",
     "text": [
      "Inference test_2 Finish.\n"
     ]
    },
    {
     "data": {
      "application/vnd.jupyter.widget-view+json": {
       "model_id": "b8b464fe66a642af8e744279885d7196",
       "version_major": 2,
       "version_minor": 0
      },
      "text/plain": [
       "Predicting: 0it [00:00, ?it/s]"
      ]
     },
     "metadata": {},
     "output_type": "display_data"
    },
    {
     "name": "stdout",
     "output_type": "stream",
     "text": [
      "Inference test_1 Finish.\n"
     ]
    }
   ],
   "source": [
    "SIDLM_INFERENCE_CONFIG = {\n",
    "    \"global\": {\n",
    "        \"seed\": 42,\n",
    "        \"output_folder\": \"../outputs/sidlm\",\n",
    "    },\n",
    "\n",
    "    \"data\": {\n",
    "        \"inference_folder\": \"../data/sidlm/test\",\n",
    "\n",
    "        \"wide_cols\": ['C_1', 'C_2', 'C_3', 'C_4', 'C_5', 'C_6', 'C_7', 'C_8', 'C_9', 'C_10', \n",
    "                      'C_11', 'C_12', 'C_13', 'C_14'],\n",
    "        \"cont_cols\": ['X_1', 'X_2', 'X_3', 'X_4', 'X_5', 'X_6', 'X_7', 'X_8', 'X_9', 'X_10', \n",
    "                      'X_11', 'X_12', 'X_13', 'X_14', 'X_15', 'X_16', 'X_17', 'X_18', 'X_19', \n",
    "                      'X_20', 'X_21', 'X_22', 'X_23', 'X_24', 'X_25', 'X_26', 'X_27', 'X_28', \n",
    "                      'X_29', 'X_30', 'X_31', 'X_32'],\n",
    "        \"cate_cols\": ['C_1', 'C_2', 'C_3', 'C_4', 'C_5', 'C_6', 'C_7', 'C_8', 'C_9', 'C_10', \n",
    "                      'C_11', 'C_12', 'C_13', 'C_14'],\n",
    "        \"target_col\": \"Y\"\n",
    "    },\n",
    "\n",
    "    \"dataloader\": {\n",
    "        \"batch_size\": 1024,\n",
    "        \"num_workers\": 4,\n",
    "    },\n",
    "\n",
    "    \"model\": {\n",
    "        \"model_checkpoint_path\": \"../outputs/sidlm/lightning_logs/version_0/checkpoints/epoch=19-step=4320.ckpt\"\n",
    "    },\n",
    "\n",
    "    \"trainer\": {\n",
    "        \"accelerator\": \"gpu\",\n",
    "        \"devices\": 1,\n",
    "    },\n",
    "}\n",
    "\n",
    "learner = SIDLMLearner(SIDLM_INFERENCE_CONFIG)\n",
    "learner.run_model_inference()"
   ]
  },
  {
   "cell_type": "code",
   "execution_count": 31,
   "id": "24368039-9104-4961-8744-fab4297629c4",
   "metadata": {},
   "outputs": [
    {
     "name": "stderr",
     "output_type": "stream",
     "text": [
      "Global seed set to 42\n"
     ]
    }
   ],
   "source": [
    "SIDLM_INTERPRETATION_CONFIG = {\n",
    "    \"global\": {\n",
    "        \"seed\": 42,\n",
    "        \"output_folder\": \"../outputs/sidlm\",\n",
    "    },\n",
    "\n",
    "    \"data\": {\n",
    "        \"wide_cols\": ['C_1', 'C_2', 'C_3', 'C_4', 'C_5', 'C_6', 'C_7', 'C_8', 'C_9', 'C_10', \n",
    "                      'C_11', 'C_12', 'C_13', 'C_14'],\n",
    "        \"cont_cols\": ['X_1', 'X_2', 'X_3', 'X_4', 'X_5', 'X_6', 'X_7', 'X_8', 'X_9', 'X_10', \n",
    "                      'X_11', 'X_12', 'X_13', 'X_14', 'X_15', 'X_16', 'X_17', 'X_18', 'X_19', \n",
    "                      'X_20', 'X_21', 'X_22', 'X_23', 'X_24', 'X_25', 'X_26', 'X_27', 'X_28', \n",
    "                      'X_29', 'X_30', 'X_31', 'X_32'],\n",
    "        \"cate_cols\": ['C_1', 'C_2', 'C_3', 'C_4', 'C_5', 'C_6', 'C_7', 'C_8', 'C_9', 'C_10', \n",
    "                      'C_11', 'C_12', 'C_13', 'C_14'],\n",
    "        \"target_col\": \"Y\"\n",
    "    },\n",
    "\n",
    "    \"model\": {\n",
    "        \"model_checkpoint_path\": \"../outputs/sidlm/lightning_logs/version_0/checkpoints/epoch=19-step=4320.ckpt\"\n",
    "    },\n",
    "}\n",
    "\n",
    "learner = SIDLMLearner(SIDLM_INTERPRETATION_CONFIG)\n",
    "learner.run_model_interpretation()"
   ]
  },
  {
   "cell_type": "code",
   "execution_count": null,
   "id": "5d32226c",
   "metadata": {},
   "outputs": [],
   "source": []
  }
 ],
 "metadata": {
  "kernelspec": {
   "display_name": "Python 3 (ipykernel)",
   "language": "python",
   "name": "python3"
  },
  "language_info": {
   "codemirror_mode": {
    "name": "ipython",
    "version": 3
   },
   "file_extension": ".py",
   "mimetype": "text/x-python",
   "name": "python",
   "nbconvert_exporter": "python",
   "pygments_lexer": "ipython3",
   "version": "3.9.16"
  }
 },
 "nbformat": 4,
 "nbformat_minor": 5
}
